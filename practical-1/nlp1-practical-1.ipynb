{
  "nbformat": 4,
  "nbformat_minor": 0,
  "metadata": {
    "colab": {
      "name": "NLP1 Practical I",
      "provenance": [],
      "collapsed_sections": [],
      "machine_shape": "hm",
      "include_colab_link": true
    },
    "kernelspec": {
      "name": "python3",
      "display_name": "Python 3"
    },
    "accelerator": "GPU"
  },
  "cells": [
    {
      "cell_type": "markdown",
      "metadata": {
        "id": "view-in-github",
        "colab_type": "text"
      },
      "source": [
        "<a href=\"https://colab.research.google.com/gist/ykerus/923fbbd18728de8c19497fd94a186eba/nlp1-practical-i.ipynb\" target=\"_parent\"><img src=\"https://colab.research.google.com/assets/colab-badge.svg\" alt=\"Open In Colab\"/></a>"
      ]
    },
    {
      "cell_type": "markdown",
      "metadata": {
        "id": "lIZrAUx57vsM",
        "colab_type": "text"
      },
      "source": [
        "Practical 1: Sentiment Detection of Movie Reviews\n",
        "========================================\n",
        "\n"
      ]
    },
    {
      "cell_type": "markdown",
      "metadata": {
        "id": "J4kXPMhyngZW",
        "colab_type": "text"
      },
      "source": [
        "This practical concerns sentiment detection of movie reviews.\n",
        "In [this file](https://gist.githubusercontent.com/bastings/d47423301cca214e3930061a5a75e177/raw/5113687382919e22b1f09ce71a8fecd1687a5760/reviews.json) (80MB) you will find 1000 positive and 1000 negative **movie reviews**.\n",
        "Each review is a **document** and consists of one or more sentences.\n",
        "\n",
        "To prepare yourself for this practical, you should\n",
        "have a look at a few of these texts to understand the difficulties of\n",
        "the task (how might one go about classifying the texts?); you will write\n",
        "code that decides whether a random unseen movie review is positive or\n",
        "negative.\n",
        "\n",
        "Please make sure you have read the following paper:\n",
        "\n",
        ">   Bo Pang, Lillian Lee, and Shivakumar Vaithyanathan\n",
        "(2002). \n",
        "[Thumbs up? Sentiment Classification using Machine Learning\n",
        "Techniques](https://dl.acm.org/citation.cfm?id=1118704). EMNLP.\n",
        "\n",
        "Bo Pang et al. were the \"inventors\" of the movie review sentiment\n",
        "classification task, and the above paper was one of the first papers on\n",
        "the topic. The first version of your sentiment classifier will do\n",
        "something similar to Bo Pang’s system. If you have questions about it,\n",
        "we should resolve them in our first demonstrated practical.\n"
      ]
    },
    {
      "cell_type": "markdown",
      "metadata": {
        "id": "cb7errgRASzZ",
        "colab_type": "text"
      },
      "source": [
        "**Advice**\n",
        "\n",
        "Please read through the entire practical and familiarise\n",
        "yourself with all requirements before you start coding or otherwise\n",
        "solving the tasks. Writing clean and concise code can make the difference\n",
        "between solving the assignment in a matter of hours, and taking days to\n",
        "run all experiments.\n",
        "\n",
        "**Environment**\n",
        "\n",
        "All code should be written in **Python 3**. \n",
        "If you use Colab, check if you have that version with `Runtime -> Change runtime type` in the top menu.\n",
        "\n",
        "> If you want to work in your own computer, then download this notebook through `File -> Download .ipynb`.\n",
        "The easiest way to\n",
        "install Python is through downloading\n",
        "[Anaconda](https://www.anaconda.com/download). \n",
        "After installation, you can start the notebook by typing `jupyter notebook filename.ipynb`.\n",
        "You can also use an IDE\n",
        "such as [PyCharm](https://www.jetbrains.com/pycharm/download/) to make\n",
        "coding and debugging easier. It is good practice to create a [virtual\n",
        "environment](https://docs.python.org/3/tutorial/venv.html) for this\n",
        "project, so that any Python packages don’t interfere with other\n",
        "projects.\n",
        "\n",
        "#### Learning Python 3\n",
        "\n",
        "If you are new to Python 3, you may want to check out a few of these resources:\n",
        "- https://learnxinyminutes.com/docs/python3/\n",
        "- https://www.learnpython.org/\n",
        "- https://docs.python.org/3/tutorial/"
      ]
    },
    {
      "cell_type": "markdown",
      "metadata": {
        "id": "bXWyGHwE-ieQ",
        "colab_type": "text"
      },
      "source": [
        "Loading the Data\n",
        "-------------------------------------------------------------"
      ]
    },
    {
      "cell_type": "code",
      "metadata": {
        "id": "lm-rakqtlMOT",
        "colab_type": "code",
        "outputId": "a313ed44-dfa1-4d67-e932-3504e29bd3d0",
        "colab": {
          "base_uri": "https://localhost:8080/",
          "height": 447
        }
      },
      "source": [
        "# download sentiment lexicon\n",
        "!wget https://gist.githubusercontent.com/bastings/d6f99dcb6c82231b94b013031356ba05/raw/f80a0281eba8621b122012c89c8b5e2200b39fd6/sent_lexicon\n",
        "# download review data\n",
        "!wget https://gist.githubusercontent.com/bastings/d47423301cca214e3930061a5a75e177/raw/5113687382919e22b1f09ce71a8fecd1687a5760/reviews.json"
      ],
      "execution_count": 0,
      "outputs": [
        {
          "output_type": "stream",
          "text": [
            "--2019-11-13 21:13:34--  https://gist.githubusercontent.com/bastings/d6f99dcb6c82231b94b013031356ba05/raw/f80a0281eba8621b122012c89c8b5e2200b39fd6/sent_lexicon\n",
            "Resolving gist.githubusercontent.com (gist.githubusercontent.com)... 151.101.0.133, 151.101.64.133, 151.101.128.133, ...\n",
            "Connecting to gist.githubusercontent.com (gist.githubusercontent.com)|151.101.0.133|:443... connected.\n",
            "HTTP request sent, awaiting response... 200 OK\n",
            "Length: 662577 (647K) [text/plain]\n",
            "Saving to: ‘sent_lexicon.4’\n",
            "\n",
            "\rsent_lexicon.4        0%[                    ]       0  --.-KB/s               \rsent_lexicon.4      100%[===================>] 647.05K  --.-KB/s    in 0.06s   \n",
            "\n",
            "2019-11-13 21:13:34 (9.75 MB/s) - ‘sent_lexicon.4’ saved [662577/662577]\n",
            "\n",
            "--2019-11-13 21:13:37--  https://gist.githubusercontent.com/bastings/d47423301cca214e3930061a5a75e177/raw/5113687382919e22b1f09ce71a8fecd1687a5760/reviews.json\n",
            "Resolving gist.githubusercontent.com (gist.githubusercontent.com)... 151.101.0.133, 151.101.64.133, 151.101.128.133, ...\n",
            "Connecting to gist.githubusercontent.com (gist.githubusercontent.com)|151.101.0.133|:443... connected.\n",
            "HTTP request sent, awaiting response... 200 OK\n",
            "Length: 83503869 (80M) [text/plain]\n",
            "Saving to: ‘reviews.json.4’\n",
            "\n",
            "reviews.json.4      100%[===================>]  79.63M   191MB/s    in 0.4s    \n",
            "\n",
            "2019-11-13 21:13:37 (191 MB/s) - ‘reviews.json.4’ saved [83503869/83503869]\n",
            "\n"
          ],
          "name": "stdout"
        }
      ]
    },
    {
      "cell_type": "code",
      "metadata": {
        "id": "hok-BFu9lGoK",
        "colab_type": "code",
        "colab": {}
      },
      "source": [
        "import math\n",
        "import os\n",
        "import sys\n",
        "from subprocess import call\n",
        "from nltk import FreqDist\n",
        "from nltk.util import ngrams\n",
        "from nltk.stem.porter import PorterStemmer\n",
        "import sklearn as sk\n",
        "from google.colab import drive\n",
        "import pickle\n",
        "import json\n",
        "from collections import Counter\n",
        "import requests\n",
        "import matplotlib.pyplot as plt\n",
        "import numpy as np\n",
        "import copy"
      ],
      "execution_count": 0,
      "outputs": []
    },
    {
      "cell_type": "code",
      "metadata": {
        "id": "careEKj-mRpl",
        "colab_type": "code",
        "outputId": "27b4e76e-c24a-409b-857b-2467a8b3441e",
        "colab": {
          "base_uri": "https://localhost:8080/",
          "height": 744
        }
      },
      "source": [
        "# load reviews into memory\n",
        "# file structure:\n",
        "# [\n",
        "#  {\"cv\": integer, \"sentiment\": str, \"content\": list} \n",
        "#  {\"cv\": integer, \"sentiment\": str, \"content\": list} \n",
        "#   ..\n",
        "# ]\n",
        "# where `content` is a list of sentences, \n",
        "# with a sentence being a list of (token, pos_tag) pairs.\n",
        "\n",
        "# For documentation on POS-tags, see \n",
        "# https://catalog.ldc.upenn.edu/docs/LDC99T42/tagguid1.pdf\n",
        "\n",
        "with open(\"reviews.json\", mode=\"r\", encoding=\"utf-8\") as f:\n",
        "  reviews = json.load(f)\n",
        "  \n",
        "print(len(reviews))\n",
        "\n",
        "def print_sentence_with_pos(s):\n",
        "  print(\" \".join(\"%s/%s\" % (token, pos_tag) for token, pos_tag in s))\n",
        "\n",
        "for i, r in enumerate(reviews):\n",
        "  print(r[\"cv\"], r[\"sentiment\"], len(r[\"content\"]))  # cv, sentiment, num sents\n",
        "  print_sentence_with_pos(r[\"content\"][0])\n",
        "  if i == 4: \n",
        "    break\n",
        "    \n",
        "c = Counter()\n",
        "for review in reviews:\n",
        "  for sentence in review[\"content\"]:\n",
        "    for token, pos_tag in sentence:\n",
        "      c[token.lower()] += 1\n",
        "    \n",
        "print(\"#types\", len(c))\n",
        "\n",
        "print(\"Most common tokens:\")\n",
        "for token, count in c.most_common(25):\n",
        "  print(\"%10s : %8d\" % (token, count))\n",
        "  "
      ],
      "execution_count": 0,
      "outputs": [
        {
          "output_type": "stream",
          "text": [
            "2000\n",
            "0 NEG 29\n",
            "Two/CD teen/JJ couples/NNS go/VBP to/TO a/DT church/NN party/NN ,/, drink/NN and/CC then/RB drive/NN ./.\n",
            "1 NEG 11\n",
            "Damn/JJ that/IN Y2K/CD bug/NN ./.\n",
            "2 NEG 24\n",
            "It/PRP is/VBZ movies/NNS like/IN these/DT that/WDT make/VBP a/DT jaded/JJ movie/NN viewer/NN thankful/JJ for/IN the/DT invention/NN of/IN the/DT Timex/NNP IndiGlo/NNP watch/NN ./.\n",
            "3 NEG 19\n",
            "QUEST/NN FOR/IN CAMELOT/NNP ``/`` Quest/NNP for/IN Camelot/NNP ''/'' is/VBZ Warner/NNP Bros./NNP '/POS first/JJ feature-length/JJ ,/, fully-animated/JJ attempt/NN to/TO steal/VB clout/NN from/IN Disney/NNP 's/POS cartoon/NN empire/NN ,/, but/CC the/DT mouse/NN has/VBZ no/DT reason/NN to/TO be/VB worried/VBN ./.\n",
            "4 NEG 38\n",
            "Synopsis/NNPS :/: A/DT mentally/RB unstable/JJ man/NN undergoing/VBG psychotherapy/NN saves/VBZ a/DT boy/NN from/IN a/DT potentially/RB fatal/JJ accident/NN and/CC then/RB falls/VBZ in/IN love/NN with/IN the/DT boy/NN 's/POS mother/NN ,/, a/DT fledgling/NN restauranteur/NN ./.\n",
            "#types 47743\n",
            "Most common tokens:\n",
            "         , :    77842\n",
            "       the :    75948\n",
            "         . :    59027\n",
            "         a :    37583\n",
            "       and :    35235\n",
            "        of :    33864\n",
            "        to :    31601\n",
            "        is :    25972\n",
            "        in :    21563\n",
            "        's :    18043\n",
            "        it :    15904\n",
            "      that :    15820\n",
            "     -rrb- :    11768\n",
            "     -lrb- :    11670\n",
            "        as :    11312\n",
            "      with :    10739\n",
            "       for :     9816\n",
            "       his :     9542\n",
            "      this :     9497\n",
            "      film :     9404\n",
            "        '' :     9282\n",
            "        he :     8804\n",
            "        `` :     8801\n",
            "         i :     8619\n",
            "       but :     8537\n"
          ],
          "name": "stdout"
        }
      ]
    },
    {
      "cell_type": "markdown",
      "metadata": {
        "id": "E6PWaEoh8B34",
        "colab_type": "text"
      },
      "source": [
        "Symbolic approach – sentiment lexicon (2pts)\n",
        "---------------------------------------------------------------------\n",
        "\n"
      ]
    },
    {
      "cell_type": "markdown",
      "metadata": {
        "id": "JsTSMb6ma4E8",
        "colab_type": "text"
      },
      "source": [
        "**How** could one automatically classify movie reviews according to their\n",
        "sentiment? \n",
        "\n",
        "If we had access to a **sentiment lexicon**, then there are ways to solve\n",
        "the problem without using Machine Learning. One might simply look up\n",
        "every open-class word in the lexicon, and compute a binary score\n",
        "$S_{binary}$ by counting how many words match either a positive, or a\n",
        "negative word entry in the sentiment lexicon $SLex$.\n",
        "\n",
        "$$S_{binary}(w_1w_2...w_n) = \\sum_{i = 1}^{n}\\text{sgn}(SLex\\big[w_i\\big])$$\n",
        "\n",
        "**Threshold.** In average there are more positive than negative words per review (~7.13 more positive than negative per review) to take this bias into account you should use a threshold of **8** (roughly the bias itself) to make it harder to classify as positive.\n",
        "\n",
        "$$\n",
        "\\text{classify}(S_{binary}(w_1w_2...w_n)) = \\bigg\\{\\begin{array}{ll}\n",
        "        \\text{positive} & \\text{if } S_{binary}(w_1w_2...w_n) > threshold\\\\\n",
        "        \\text{negative} & \\text{else }\n",
        "        \\end{array}\n",
        "$$\n",
        "\n",
        "To implement this approach, you should use the sentiment\n",
        "lexicon in `sent_lexicon`, which was taken from the\n",
        "following work:\n",
        "\n",
        "> Theresa Wilson, Janyce Wiebe, and Paul Hoffmann\n",
        "(2005). [Recognizing Contextual Polarity in Phrase-Level Sentiment\n",
        "Analysis](http://www.aclweb.org/anthology/H/H05/H05-1044.pdf). HLT-EMNLP."
      ]
    },
    {
      "cell_type": "markdown",
      "metadata": {
        "id": "tOFnMvbeeZrc",
        "colab_type": "text"
      },
      "source": [
        "#### (Q: 1.1) Implement this approach and report its classification accuracy. (1 pt)"
      ]
    },
    {
      "cell_type": "code",
      "metadata": {
        "id": "ED2aTEYutW1-",
        "colab_type": "code",
        "colab": {}
      },
      "source": [
        "# YOUR CODE HERE\n",
        "\n",
        "#read sent_lexicon file\n",
        "dic = {} #holds words, sentiments and strengths\n",
        "sent_lex = open(\"sent_lexicon\", mode=\"r\", encoding=\"utf-8\")\n",
        "line = sent_lex.readline()\n",
        "\n",
        "while line:\n",
        "  split = line.split()\n",
        "  strength = split[0][5:]\n",
        "  word = split[2][6:]\n",
        "  polarity = split[5][14:]\n",
        "  dic[word] = [polarity,strength]\n",
        "  line = sent_lex.readline()\n",
        "\n",
        "sent_lex.close()"
      ],
      "execution_count": 0,
      "outputs": []
    },
    {
      "cell_type": "code",
      "metadata": {
        "id": "F-eTvuXupXiX",
        "colab_type": "code",
        "colab": {}
      },
      "source": [
        "# YOUR CODE HERE\n",
        "\n",
        "def classify(S, thresh):\n",
        "  if S > thresh:\n",
        "    return \"POS\"\n",
        "  else:\n",
        "    return \"NEG\""
      ],
      "execution_count": 0,
      "outputs": []
    },
    {
      "cell_type": "code",
      "metadata": {
        "id": "g8DfT2zJ2ydr",
        "colab_type": "code",
        "colab": {}
      },
      "source": [
        "# YOUR CODE HERE\n",
        "\n",
        "threshhold = 8 #positive bias\n",
        "labels  = [] #ground-truth\n",
        "results = [] #prediction\n",
        "\n",
        "for i, r in enumerate(reviews): \n",
        "  Sbin = 0\n",
        "  labels.append(r[\"sentiment\"])\n",
        "  for line in r[\"content\"]: #line=sentence\n",
        "    for word, _ in line:\n",
        "      word = word.lower() #make sure the're non-capital letters\n",
        "      if word in dic: #alternative: ... and dic.get(word)[0] != \"neutral\"\n",
        "        #alternative: sign = (dic.get(word)[0] == \"positive\")*2-1\n",
        "        if dic[word][0] == \"positive\": #could be pos, neg, or neutral\n",
        "          Sbin += 1\n",
        "        elif dic[word][0] == \"negative\":\n",
        "          Sbin -= 1\n",
        "  results.append(classify(Sbin, threshhold)) #bias included\n",
        "correct = [labels[i]==results[i] for i in range(len(reviews))] #boolean"
      ],
      "execution_count": 0,
      "outputs": []
    },
    {
      "cell_type": "code",
      "metadata": {
        "id": "iy528EUTphz5",
        "colab_type": "code",
        "outputId": "73b40914-25a4-40fb-f7c9-6e347285d351",
        "colab": {
          "base_uri": "https://localhost:8080/",
          "height": 36
        }
      },
      "source": [
        "token_results = [\"+\" if correct[i] else \"-\" for i in range(len(reviews))] # YOUR CODE HERE\n",
        "token_accuracy = np.sum(correct)/len(reviews) # YOUR CODE HERE\n",
        "print(\"Accuracy: %0.2f\" % token_accuracy)"
      ],
      "execution_count": 0,
      "outputs": [
        {
          "output_type": "stream",
          "text": [
            "Accuracy: 0.68\n"
          ],
          "name": "stdout"
        }
      ]
    },
    {
      "cell_type": "markdown",
      "metadata": {
        "id": "Twox0s_3eS0V",
        "colab_type": "text"
      },
      "source": [
        "If the sentiment lexicon also has information about the **magnitude** of\n",
        "sentiment (e.g., *“excellent\"* would have higher magnitude than\n",
        "*“good\"*), we could take a more fine-grained approach by adding up all\n",
        "sentiment scores, and deciding the polarity of the movie review using\n",
        "the sign of the weighted score $S_{weighted}$.\n",
        "\n",
        "$$S_{weighted}(w_1w_2...w_n) = \\sum_{i = 1}^{n}SLex\\big[w_i\\big]$$\n",
        "\n",
        "\n",
        "Their lexicon also records two possible magnitudes of sentiment (*weak*\n",
        "and *strong*), so you can implement both the binary and the weighted\n",
        "solutions (please use a switch in your program). For the weighted\n",
        "solution, you can choose the weights intuitively *once* before running\n",
        "the experiment.\n",
        "\n",
        "#### (Q: 1.2) Now incorporate magnitude information and report the classification accuracy. Don't forget to use the threshold. (1 pt)"
      ]
    },
    {
      "cell_type": "code",
      "metadata": {
        "id": "qG3hUDnPtkhS",
        "colab_type": "code",
        "colab": {}
      },
      "source": [
        "# YOUR CODE HERE\n",
        "\n",
        "strong_weight = 3 #quick trial and error gives 1% accuracy gain\n",
        "weak_weight = 1\n",
        "#threshold dependent on weights?\n",
        "\n",
        "results_mag = []\n",
        "\n",
        "for i, r in enumerate(reviews): \n",
        "  Sbin = 0\n",
        "  for line in r[\"content\"]: #line=sentence\n",
        "    for word, _ in line:\n",
        "      word = word.lower() #make sure the're non-capital letters\n",
        "      if word in dic:\n",
        "        if dic[word][0] == \"positive\": #could be pos, neg, or neutral\n",
        "          if dic[word][1] == \"weaksubj\": #only weak or strong\n",
        "            Sbin += weak_weight\n",
        "          else:\n",
        "            Sbin += strong_weight\n",
        "        elif dic[word][0] == \"negative\":\n",
        "          if dic[word][1] == \"weaksubj\":\n",
        "            Sbin -= weak_weight\n",
        "          else:\n",
        "            Sbin -= strong_weight\n",
        "  results_mag.append(classify(Sbin, threshhold)) #bias included\n",
        "correct_mag = [labels[i]==results_mag[i] for i in range(len(reviews))] #boolean"
      ],
      "execution_count": 0,
      "outputs": []
    },
    {
      "cell_type": "code",
      "metadata": {
        "id": "9vVk7CvDpyka",
        "colab_type": "code",
        "outputId": "0ee2c7b3-3d2f-4fcc-ae61-e7832d458658",
        "colab": {
          "base_uri": "https://localhost:8080/",
          "height": 36
        }
      },
      "source": [
        "\n",
        "magnitude_results = [\"+\" if correct_mag[i] else \"-\" for i in range(len(reviews))]\n",
        "magnitude_accuracy = np.sum(correct_mag)/len(reviews)\n",
        "print(\"Accuracy: %0.2f\" % magnitude_accuracy)"
      ],
      "execution_count": 0,
      "outputs": [
        {
          "output_type": "stream",
          "text": [
            "Accuracy: 0.69\n"
          ],
          "name": "stdout"
        }
      ]
    },
    {
      "cell_type": "markdown",
      "metadata": {
        "id": "h9SHoGPfsAHV",
        "colab_type": "text"
      },
      "source": [
        "#### Optional: make a barplot of the two results."
      ]
    },
    {
      "cell_type": "code",
      "metadata": {
        "id": "8LgBcYcXsEk3",
        "colab_type": "code",
        "outputId": "5e9f7182-7129-4e87-8a2a-eee1ed7e9d8a",
        "colab": {
          "base_uri": "https://localhost:8080/",
          "height": 281
        }
      },
      "source": [
        "# YOUR CODE HERE\n",
        "accuracies = [token_accuracy, magnitude_accuracy]\n",
        "plt.bar([\"Unweighted\",\"Weighted\"], accuracies)\n",
        "plt.title(\"Model comparison\")\n",
        "plt.ylabel(\"Accuracy\")\n",
        "plt.ylim(min(accuracies)-.01,max(accuracies)+.01)\n",
        "plt.show()"
      ],
      "execution_count": 0,
      "outputs": [
        {
          "output_type": "display_data",
          "data": {
            "image/png": "[encoded data removed]",
            "text/plain": [
              "<Figure size 432x288 with 1 Axes>"
            ]
          },
          "metadata": {
            "tags": []
          }
        }
      ]
    },
    {
      "cell_type": "code",
      "metadata": {
        "id": "9cCEoxYbLzYK",
        "colab_type": "code",
        "colab": {}
      },
      "source": [
        "#save some RAM\n",
        "dic, results, labels, accuracies, results_mag, correct_mag = \"\", \"\", \"\", \"\", \"\", \"\""
      ],
      "execution_count": 0,
      "outputs": []
    },
    {
      "cell_type": "markdown",
      "metadata": {
        "id": "6MFrz8Jink0D",
        "colab_type": "text"
      },
      "source": [
        "Answering questions in statistically significant ways (1pt)\n",
        "-------------------------------------------------------------"
      ]
    },
    {
      "cell_type": "markdown",
      "metadata": {
        "id": "kxkxrldT9Ymc",
        "colab_type": "text"
      },
      "source": [
        "Does using the magnitude improve the results? Oftentimes, answering questions like this about the performance of\n",
        "different signals and/or algorithms by simply looking at the output\n",
        "numbers is not enough. When dealing with natural language or human\n",
        "ratings, it’s safe to assume that there are infinitely many possible\n",
        "instances that could be used for training and testing, of which the ones\n",
        "we actually train and test on are a tiny sample. Thus, it is possible\n",
        "that observed differences in the reported performance are really just\n",
        "noise. \n",
        "\n",
        "There exist statistical methods which can be used to check for\n",
        "consistency (*statistical significance*) in the results, and one of the\n",
        "simplest such tests is the **sign test**. \n",
        "\n",
        "The sign test is based on the binomial distribution. Count all cases when System 1 is better than System 2, when System 2 is better than System 1, and when they are the same. Call these numbers $Plus$, $Minus$ and $Null$ respectively. \n",
        "\n",
        "The sign test returns the probability that the null hypothesis is true. \n",
        "\n",
        "This probability is called the $p$-value and it can be calculated for the two-sided sign test using the following formula (we multiply by two because this is a two-sided sign test and tests for the significance of differences in either direction):\n",
        "\n",
        "$$2 \\, \\sum\\limits_{i=0}^{k} \\binom{N}{i} \\, q^i \\, (1-q)^{N-i}$$\n",
        "\n",
        "where $$N = 2 \\Big\\lceil \\frac{Null}{2}\\Big\\rceil + Plus + Minus$$ is the total\n",
        "number of cases, and\n",
        "$$k = \\Big\\lceil \\frac{Null}{2}\\Big\\rceil + \\min\\{Plus,Minus\\}$$ is the number of\n",
        "cases with the less common sign. \n",
        "\n",
        "In this experiment, $q = 0.5$. Here, we\n",
        "treat ties by adding half a point to either side, rounding up to the\n",
        "nearest integer if necessary. \n",
        "\n",
        "\n",
        "#### (Q 2.1): Implement the sign test. Is the difference between the two symbolic systems significant? What is the p-value? (1 pt)\n",
        "\n",
        "You should use the `comb` function from `scipy` and the `decimal` package for the stable adding of numbers in the final summation.\n",
        "\n",
        "You can quickly verify the correctness of\n",
        "your sign test code using a [free online\n",
        "tool](https://www.graphpad.com/quickcalcs/binomial1.cfm)."
      ]
    },
    {
      "cell_type": "code",
      "metadata": {
        "id": "de5l4oPkE-BS",
        "colab_type": "code",
        "outputId": "e72e6044-05fe-419a-84f5-846ab2fbdaba",
        "colab": {
          "base_uri": "https://localhost:8080/",
          "height": 54
        }
      },
      "source": [
        "from decimal import Decimal\n",
        "from scipy.special import comb\n",
        "\n",
        "\n",
        "def sign_test(results_1, results_2):\n",
        "  \"\"\"test for significance\n",
        "  results_1 is a list of classification results (+ for correct, - incorrect)\n",
        "  results_2 is a list of classification results (+ for correct, - incorrect)\n",
        "  \"\"\"\n",
        "  ties, plus, minus = 0, 0, 0\n",
        "\n",
        "  # \"-\" carries the error\n",
        "  for i in range(0, len(results_1)):\n",
        "    if results_1[i]==results_2[i]:\n",
        "      ties += 1\n",
        "    elif results_1[i]==\"-\": \n",
        "      plus += 1\n",
        "    elif results_2[i]==\"-\": \n",
        "      minus += 1\n",
        "\n",
        "  n = 2*np.ceil(ties/2.) + plus + minus # YOUR CODE HERE\n",
        "  k = np.ceil(ties/2.) + min(plus,minus) # YOUR CODE HERE\n",
        "\n",
        "  summation = Decimal(0.0)\n",
        "  for i in range(0,int(k)+1):\n",
        "      #the equation simplifies to this for q=0.5\n",
        "      summation += Decimal(comb(n,i,exact=True)) # YOUR CODE HERE\n",
        "\n",
        "  # use two-tailed version of test\n",
        "  summation *= 2\n",
        "  summation *= (Decimal(0.5)**Decimal(n))\n",
        "\n",
        "  print(\"The difference is\", \n",
        "        \"not significant\" if summation >= 0.05 else \"significant\")\n",
        "  \n",
        "  return summation\n",
        "\n",
        "p_value = sign_test(token_results, magnitude_results)\n",
        "print(\"p-value =\", round(p_value,3))"
      ],
      "execution_count": 0,
      "outputs": [
        {
          "output_type": "stream",
          "text": [
            "The difference is not significant\n",
            "p-value = 0.517\n"
          ],
          "name": "stdout"
        }
      ]
    },
    {
      "cell_type": "markdown",
      "metadata": {
        "id": "uhU_tk-BOaXb",
        "colab_type": "text"
      },
      "source": [
        "## Using the Sign test\n",
        "\n",
        "**From now on, report all differences between systems using the\n",
        "sign test.** You can think about a change that you apply to one system, as a\n",
        " new system.\n",
        "    \n",
        "You should report statistical test\n",
        "results in an appropriate form – if there are several different methods\n",
        "(i.e., systems) to compare, tests can only be applied to pairs of them\n",
        "at a time. This creates a triangular matrix of test results in the\n",
        "general case. When reporting these pair-wise differences, you should\n",
        "summarise trends to avoid redundancy.\n"
      ]
    },
    {
      "cell_type": "markdown",
      "metadata": {
        "id": "LibV4nR89BXb",
        "colab_type": "text"
      },
      "source": [
        "Naive Bayes (8pt + 1pt bonus)\n",
        "=========="
      ]
    },
    {
      "cell_type": "markdown",
      "metadata": {
        "id": "fnF9adQnuwia",
        "colab_type": "text"
      },
      "source": [
        "\n",
        "Your second task is to program a simple Machine Learning approach that operates\n",
        "on a simple Bag-of-Words (BoW) representation of the text data, as\n",
        "described in Pang et al. (2002). In this approach, the only features we\n",
        "will consider are the words in the text themselves, without bringing in\n",
        "external sources of information. The BoW model is a popular way of\n",
        "representing text information as vectors (or points in space), making it\n",
        "easy to apply classical Machine Learning algorithms on NLP tasks.\n",
        "However, the BoW representation is also very crude, since it discards\n",
        "all information related to word order and grammatical structure in the\n",
        "original text.\n",
        "\n",
        "## Writing your own classifier\n",
        "\n",
        "Write your own code to implement the Naive Bayes (NB) classifier. As\n",
        "a reminder, the Naive Bayes classifier works according to the following\n",
        "equation:\n",
        "$$\\hat{c} = \\operatorname*{arg\\,max}_{c \\in C} P(c|\\bar{f}) = \\operatorname*{arg\\,max}_{c \\in C} P(c)\\prod^n_{i=1} P(f_i|c)$$\n",
        "where $C = \\{ \\text{POS}, \\text{NEG} \\}$ is the set of possible classes,\n",
        "$\\hat{c} \\in C$ is the most probable class, and $\\bar{f}$ is the feature\n",
        "vector. Remember that we use the log of these probabilities when making\n",
        "a prediction:\n",
        "$$\\hat{c} = \\operatorname*{arg\\,max}_{c \\in C} \\Big\\{\\log P(c) + \\sum^n_{i=1} \\log P(f_i|c)\\Big\\}$$\n",
        "\n",
        "You can find more details about Naive Bayes in [Jurafsky &\n",
        "Martin](https://web.stanford.edu/~jurafsky/slp3/). You can also look at\n",
        "this helpful\n",
        "[pseudo-code](https://nlp.stanford.edu/IR-book/html/htmledition/naive-bayes-text-classification-1.html).\n",
        "\n",
        "*Note: this section and the next aim to put you a position to replicate\n",
        "    Pang et al., Naive Bayes results. However, the numerical results\n",
        "    will differ from theirs, as they used different data.*\n",
        "\n",
        "**You must write the Naive Bayes training and prediction code from\n",
        "scratch.** You will not be given credit for using off-the-shelf Machine\n",
        "Learning libraries.\n",
        "\n",
        "The data contains the text of the reviews, where each document consists\n",
        "of the sentences in the review, the sentiment of the review and an index\n",
        "(cv) that you will later use for cross-validation. You will find the\n",
        "text has already been tokenised and POS-tagged for you. Your algorithm\n",
        "should read in the text, **lowercase it**, and store the words and their\n",
        "frequencies in an appropriate data structure that allows for easy\n",
        "computation of the probabilities used in the Naive Bayes algorithm, and\n",
        "then make predictions for new instances."
      ]
    },
    {
      "cell_type": "markdown",
      "metadata": {
        "id": "gsZRhaI3WvzC",
        "colab_type": "text"
      },
      "source": [
        "#### (Q3.1) Train your classifier on (positive and negative) reviews with cv-value 000-899, and test it on the remaining reviews cv900–cv999.  Report results using simple classification accuracy as your evaluation metric. Your  features are the word vocabulary. The value of a feature is the count of that feature (word) in the document. (2pts)\n"
      ]
    },
    {
      "cell_type": "code",
      "metadata": {
        "id": "ZQfOWX21RFoS",
        "colab_type": "code",
        "colab": {}
      },
      "source": [
        "# YOUR CODE HERE\n",
        "\n",
        "#some helpful functions\n",
        "def extract_vocabulary(data, ng):\n",
        "  vocabulary = []\n",
        "  for r in data:\n",
        "    for sentence in r[\"content\"]:\n",
        "      for word, _ in sentence:\n",
        "        vocabulary.append(word.lower())\n",
        "  if ng == 1:\n",
        "    return np.unique(vocabulary)\n",
        "  #else\n",
        "  ngram = ngrams(vocabulary, ng) #could do padding, but small/no difference\n",
        "  return np.unique([\" \".join(g) for g in ngram]) #combinations are space separated\n",
        "\n",
        "def extract_tokens(doc):\n",
        "  W = []\n",
        "  for sentence in doc[\"content\"]:\n",
        "    for word, _ in sentence:\n",
        "      W.append(word.lower())\n",
        "  return W\n",
        "\n",
        "def count_docs_in_class(data, c):\n",
        "  count = 0\n",
        "  for r in data:\n",
        "    if r[\"sentiment\"] == c:\n",
        "      count += 1\n",
        "  return count\n",
        "\n",
        "def concatenate_text(data, c, ng):\n",
        "  text = []\n",
        "  for r in data:\n",
        "    if r[\"sentiment\"] == c:\n",
        "      for sentence in r[\"content\"]:\n",
        "        for word, _ in sentence:\n",
        "          text.append(word.lower())\n",
        "  if ng == 1:\n",
        "    return text\n",
        "  #else\n",
        "  ngram = ngrams(text, ng)\n",
        "  return [\" \".join(g) for g in ngram]\n",
        "\n",
        "def get_condprob(Tct, tot_count, k, Vsize):\n",
        "    return (Tct + k) / (tot_count + k*Vsize)"
      ],
      "execution_count": 0,
      "outputs": []
    },
    {
      "cell_type": "code",
      "metadata": {
        "id": "th9zc3ZTHXwq",
        "colab_type": "code",
        "colab": {}
      },
      "source": [
        "# YOUR CODE HERE\n",
        "\n",
        "#k for smoothing\n",
        "#ng for ngrams (ng=1 trains on unigrams, ng=2 on bigrams, etc)\n",
        "#combine the models later for classification using interpolation\n",
        "\n",
        "#algorithm from:\n",
        "#https://nlp.stanford.edu/IR-book/html/htmledition/naive-bayes-text-classification-1.html\n",
        "def train_NaiveBayes(C, D, k, ng):\n",
        "  V = extract_vocabulary(D, ng)\n",
        "  N = len(D)\n",
        "  prior = np.zeros(len(C))\n",
        "  tot_counts = np.zeros(len(C))\n",
        "  #create condprob dictionary, for all tokens t in V and classes c\n",
        "  condprob = {} #use: condprob[t][c] \n",
        "  for t in V:\n",
        "    condprob[t] = np.zeros(len(C))\n",
        "  for c in range(len(C)): #c is index\n",
        "    Nc = count_docs_in_class(D, C[c])\n",
        "    prior[c] = Nc/N\n",
        "    text_c = concatenate_text(D, C[c], ng) #all tokens are also in vocabulary\n",
        "                                         # ^ not the other way around!\n",
        "    unique_c, counts_c = np.unique(text_c, return_counts=True)\n",
        "    Tc = dict(zip(unique_c, counts_c)) #counting tokens a different way takes lot of time\n",
        "    tot_counts[c] = np.sum([Tc.get(t,0) for t in V])\n",
        "    for t in V: #t is token (could be combination of ng words)\n",
        "      condprob[t][c] = get_condprob(Tc.get(t, 0), tot_counts[c], k, len(V))\n",
        "  return V, prior, condprob\n",
        "\n",
        "#vocabulary and condprob are lists for ngram application\n",
        "#params, also list, carries weitght of each ngram model\n",
        "#where sum(params) = 1 (constraint)\n",
        "def apply_NaiveBayes(C, prior, condprobs, review, params):\n",
        "  ng = len(params)\n",
        "  score = np.zeros(len(C)) \n",
        "  W = extract_tokens(review)\n",
        "  for c in range(len(C)): #c is index\n",
        "    logZero = False #assuming prior is not zero\n",
        "    score[c] = np.log(prior[c])\n",
        "    for i, t in enumerate(W):\n",
        "      par1xPuni = params[0]*condprobs[0].get(t,-np.ones(len(C)))[c] #P unigram, ignore (=-1) if word not in vocab\n",
        "      #P bigram, don't count (=0) if not in vocab or previous word does not exist (edge case)\n",
        "      par2xPbi = params[1]*condprobs[1].get(W[i-1]+\" \"+t,np.zeros(len(C)))[c] if ng>1 and i>0 and par1xPuni>=0 else 0 \n",
        "      #P trigram, don't count (=0) if not in vocab or previous 2 words don't exist (edge case)\n",
        "      par3xPtri = params[2]*condprobs[2].get(W[i-2]+\" \"+W[i-1]+\" \"+t,np.zeros(len(C)))[c] if ng>2 and i>1 and par1xPuni>=0 else 0\n",
        "    #here we combine the models (only if token t is in the vocab)\n",
        "    #ˆP(w_n|w_n-2,w_n-1) = par1*P(w_n|w_n-2,w_n-1) + par2*P(w_n|w_n-1) + par3*P(w_n) \n",
        "      condprob_tc = par1xPuni + par2xPbi + par3xPtri if par1xPuni>=0 else 1 #ignore if t is not in vocab\n",
        "      if condprob_tc == 0: #only for k=0 (no smoothing)\n",
        "        score[c] = 0\n",
        "        logZero = True\n",
        "        break\n",
        "      else:\n",
        "        score[c] += np.log(condprob_tc) \n",
        "    if logZero:\n",
        "      break\n",
        "  return C[list(score).index(np.max(score))] #0 index if scores are equal"
      ],
      "execution_count": 0,
      "outputs": []
    },
    {
      "cell_type": "code",
      "metadata": {
        "id": "ccU8THzzWZBY",
        "colab_type": "code",
        "colab": {}
      },
      "source": [
        "# YOUR CODE HERE\n",
        "\n",
        "train_set = [r for r in reviews if r[\"cv\"] < 900]\n",
        "test_set  = [r for r in reviews if r[\"cv\"] >= 900]\n",
        "\n",
        "k = 0 #smoothing parameter\n",
        "ng = 1 #ngram parameter\n",
        "params = [1] #ngram model weight\n",
        "\n",
        "C = [\"POS\",\"NEG\"]\n",
        "V_NB, prior, condprob = train_NaiveBayes(C, train_set, k, ng)"
      ],
      "execution_count": 0,
      "outputs": []
    },
    {
      "cell_type": "code",
      "metadata": {
        "id": "Q10KE9HMR4Gd",
        "colab_type": "code",
        "colab": {}
      },
      "source": [
        "# YOUR CODE HERE\n",
        "\n",
        "labels_NB = []\n",
        "results_NB = []\n",
        "for r in test_set:\n",
        "  labels_NB.append(r[\"sentiment\"])\n",
        "  results_NB.append(apply_NaiveBayes(C, prior, [condprob], r, params))\n",
        "correct_NB = [labels_NB[i]==results_NB[i] for i in range(len(test_set))] #boolean"
      ],
      "execution_count": 0,
      "outputs": []
    },
    {
      "cell_type": "code",
      "metadata": {
        "id": "op-bga-ETL_d",
        "colab_type": "code",
        "outputId": "93436ba4-f318-439f-d640-288188bb2508",
        "colab": {
          "base_uri": "https://localhost:8080/",
          "height": 36
        }
      },
      "source": [
        "# YOUR CODE HERE\n",
        "\n",
        "#without smoothing\n",
        "NB_results = [\"+\" if correct_NB[i] else \"-\" for i in range(len(test_set))]\n",
        "NB_accuracy = np.sum(correct_NB)/len(test_set)\n",
        "print(\"Accuracy: %0.2f\" % NB_accuracy)"
      ],
      "execution_count": 0,
      "outputs": [
        {
          "output_type": "stream",
          "text": [
            "Accuracy: 0.49\n"
          ],
          "name": "stdout"
        }
      ]
    },
    {
      "cell_type": "code",
      "metadata": {
        "id": "3-bA3bPtZFpI",
        "colab_type": "code",
        "outputId": "e64df4d2-3975-4f67-b35b-d34ef093f5c5",
        "colab": {
          "base_uri": "https://localhost:8080/",
          "height": 54
        }
      },
      "source": [
        "#accuracy ~50%, because almost all probabilities become zero due to zero condprob\n",
        "#this is the case because we don't apply smooothing\n",
        "#the scores for both classes is then zero and the first (POS) will be picked \n",
        "print(C)\n",
        "print(np.sum(np.array(results_NB)==\"POS\"),\", \",np.sum(np.array(results_NB)==\"NEG\"))"
      ],
      "execution_count": 0,
      "outputs": [
        {
          "output_type": "stream",
          "text": [
            "['POS', 'NEG']\n",
            "191 ,  9\n"
          ],
          "name": "stdout"
        }
      ]
    },
    {
      "cell_type": "code",
      "metadata": {
        "id": "ZcOTvI8sM4jl",
        "colab_type": "code",
        "colab": {}
      },
      "source": [
        "#save some RAM\n",
        "results_NB, correct_NB = \"\", \"\""
      ],
      "execution_count": 0,
      "outputs": []
    },
    {
      "cell_type": "markdown",
      "metadata": {
        "id": "0INK-PBoM6CB",
        "colab_type": "text"
      },
      "source": [
        "#### (Bonus Questions) Would you consider accuracy to also be a good way to evaluate your classifier in a situation where 90% of your data instances are of positive movie reviews? (1pt)\n",
        "\n",
        "You can simulate this scenario by keeping the positive reviews\n",
        "data unchanged, but only using negative reviews cv000–cv089 for\n",
        "training, and cv900–cv909 for testing. Calculate the classification\n",
        "accuracy, and explain what changed."
      ]
    },
    {
      "cell_type": "code",
      "metadata": {
        "id": "GWDkt5ZrrFGp",
        "colab_type": "code",
        "colab": {}
      },
      "source": [
        "# YOUR CODE HERE\n",
        "\n",
        "# No, without too much effort, a classifier could simply return \"positive\" in any case\n",
        "# and still get an accuracy of 0.9! An accuracy of 0.9 sounds really good, but in\n",
        "# this case it doesn't say anything about how well the classifier can separate\n",
        "# between positive and negative reviews."
      ],
      "execution_count": 0,
      "outputs": []
    },
    {
      "cell_type": "markdown",
      "metadata": {
        "id": "6wJzcHX3WUDm",
        "colab_type": "text"
      },
      "source": [
        "## Smoothing\n",
        "\n",
        "The presence of words in the test dataset that\n",
        "haven’t been seen during training can cause probabilities in the Naive\n",
        "Bayes classifier to be $0$, thus making that particular test instance\n",
        "undecidable. The standard way to mitigate this effect (as well as to\n",
        "give more clout to rare words) is to use smoothing, in which the\n",
        "probability fraction\n",
        "$$\\frac{\\text{count}(w_i, c)}{\\sum\\limits_{w\\in V} \\text{count}(w, c)}$$ for a word\n",
        "$w_i$ becomes\n",
        "$$\\frac{\\text{count}(w_i, c) + \\text{smoothing}(w_i)}{\\sum\\limits_{w\\in V} \\text{count}(w, c) + \\sum\\limits_{w \\in V} \\text{smoothing}(w)}$$\n",
        "\n",
        "\n",
        "\n"
      ]
    },
    {
      "cell_type": "markdown",
      "metadata": {
        "id": "PBNIcbwUWphC",
        "colab_type": "text"
      },
      "source": [
        "#### (Q3.2) Implement Laplace feature smoothing (1pt)\n",
        "($smoothing(\\cdot) = \\kappa$, constant for all words) in your Naive\n",
        "Bayes classifier’s code, and report the impact on performance. \n",
        "Use $\\kappa = 1$."
      ]
    },
    {
      "cell_type": "code",
      "metadata": {
        "id": "oC-PxG-mqc8y",
        "colab_type": "code",
        "colab": {}
      },
      "source": [
        "# YOUR CODE HERE\n",
        "\n",
        "k = 1 #smoothing parameter\n",
        "ng = 1 #ngram parameter\n",
        "params = [1]\n",
        "\n",
        "V_NBs, prior, condprob = train_NaiveBayes(C, train_set, k, ng)"
      ],
      "execution_count": 0,
      "outputs": []
    },
    {
      "cell_type": "code",
      "metadata": {
        "id": "7FPTnlDWuyPs",
        "colab_type": "code",
        "colab": {}
      },
      "source": [
        "# YOUR CODE HERE\n",
        "\n",
        "results_NBs = [] #s for smooth, labels are the same as above\n",
        "\n",
        "for r in test_set:\n",
        "  results_NBs.append(apply_NaiveBayes(C, prior, [condprob], r, params))\n",
        "correct_NBs = [labels_NB[i]==results_NBs[i] for i in range(len(test_set))] #boolean"
      ],
      "execution_count": 0,
      "outputs": []
    },
    {
      "cell_type": "code",
      "metadata": {
        "id": "4dD79swCvDaQ",
        "colab_type": "code",
        "outputId": "17d9b396-b590-400c-dd93-1e7cae702653",
        "colab": {
          "base_uri": "https://localhost:8080/",
          "height": 36
        }
      },
      "source": [
        "# YOUR CODE HERE\n",
        "\n",
        "NBs_results = [\"+\" if correct_NBs[i] else \"-\" for i in range(len(test_set))]\n",
        "NBs_accuracy = np.sum(correct_NBs)/len(test_set)\n",
        "print(\"Accuracy: %0.2f\" % NBs_accuracy)\n",
        "#much better!"
      ],
      "execution_count": 0,
      "outputs": [
        {
          "output_type": "stream",
          "text": [
            "Accuracy: 0.82\n"
          ],
          "name": "stdout"
        }
      ]
    },
    {
      "cell_type": "markdown",
      "metadata": {
        "id": "-conSBddWWyN",
        "colab_type": "text"
      },
      "source": [
        "#### (Q3.3) Is the difference between non smoothed (Q3.1) and smoothed (Q3.2) statistically significant? (0.5pt)"
      ]
    },
    {
      "cell_type": "code",
      "metadata": {
        "id": "CCvSNGlHMUPz",
        "colab_type": "code",
        "outputId": "6a494970-592b-4644-87ef-8d4a5768eed6",
        "colab": {
          "base_uri": "https://localhost:8080/",
          "height": 54
        }
      },
      "source": [
        "# YOUR CODE HERE\n",
        "\n",
        "p_value = sign_test(NB_results, NBs_results)\n",
        "print(\"p-value =\", round(p_value,7))"
      ],
      "execution_count": 0,
      "outputs": [
        {
          "output_type": "stream",
          "text": [
            "The difference is significant\n",
            "p-value = 0.0000035\n"
          ],
          "name": "stdout"
        }
      ]
    },
    {
      "cell_type": "code",
      "metadata": {
        "id": "KfeaHRsvNYX8",
        "colab_type": "code",
        "colab": {}
      },
      "source": [
        "#save some RAM\n",
        "train_set, test_set, labels_NB, results_NBs, correct_NBs = \"\", \"\", \"\", \"\", \"\""
      ],
      "execution_count": 0,
      "outputs": []
    },
    {
      "cell_type": "markdown",
      "metadata": {
        "id": "ZiGcgwba87D5",
        "colab_type": "text"
      },
      "source": [
        "## Cross-validation\n",
        "\n",
        "A serious danger in using Machine Learning on small datasets, with many\n",
        "iterations of slightly different versions of the algorithms, is that we\n",
        "end up with Type III errors, also called the “testing hypotheses\n",
        "suggested by the data” errors. This type of error occurs when we make\n",
        "repeated improvements to our classifiers by playing with features and\n",
        "their processing, but we don’t get a fresh, never-before seen test\n",
        "dataset every time. Thus, we risk developing a classifier that’s better\n",
        "and better on our data, but worse and worse at generalizing to new,\n",
        "never-before seen data.\n",
        "\n",
        "A simple method to guard against Type III errors is to use\n",
        "cross-validation. In N-fold cross-validation, we divide the data into N\n",
        "distinct chunks / folds. Then, we repeat the experiment N times, each\n",
        "time holding out one of the chunks for testing, training our classifier\n",
        "on the remaining N - 1 data chunks, and reporting performance on the\n",
        "held-out chunk. We can use different strategies for dividing the data:\n",
        "\n",
        "-   Consecutive splitting:\n",
        "  - cv000–cv099 = Split 1\n",
        "  - cv100–cv199 = Split 2\n",
        "  - etc.\n",
        "  \n",
        "-   Round-robin splitting (mod 10):\n",
        "  - cv000, cv010, cv020, … = Split 1\n",
        "  - cv001, cv011, cv021, … = Split 2\n",
        "  - etc.\n",
        "\n",
        "-   Random sampling/splitting\n",
        "  - Not used here (but you may choose to split this way in a non-educational situation)\n",
        "\n",
        "#### (Q3.4) Write the code to implement 10-fold cross-validation using round-robin splitting for your Naive Bayes classifier from Q3.2 and compute the 10 accuracies. Report the final performance, which is the average of the performances per fold. If all splits perform equally well, this is a good sign. (1pt)\n",
        "\n",
        "\n",
        "\n",
        "\n"
      ]
    },
    {
      "cell_type": "code",
      "metadata": {
        "id": "pdrGCWeMeQOs",
        "colab_type": "code",
        "colab": {}
      },
      "source": [
        "# YOUR CODE HERE\n",
        "\n",
        "def perform_cv(C, splits, n, k, params):\n",
        "  ng = len(params)\n",
        "  correct_cv = []\n",
        "  accuracies_cv = []\n",
        "  V_avg = 0 #avg vocabulary size\n",
        "  for i in range(n): #split i is test-set\n",
        "    train_set = [] #the rest is train-set\n",
        "    for j in range(n):\n",
        "      if j != i:\n",
        "        train_set += splits[j]\n",
        "    condprobs = [] #will hold condprobs for each ngram model\n",
        "    for ngi in range(1,ng+1): #loop over ngrams\n",
        "      #train separate model for each ngram, combine probabilities as such:\n",
        "      #ˆP(w_n|w_n-2,w_n-1) = par1*P(w_n|w_n-2,w_n-1) + par2*P(w_n|w_n-1) + par3*P(w_n)\n",
        "      #(see function apply_NaiveBayes())\n",
        "      V, prior, condprob = train_NaiveBayes(C, train_set, k, ngi) #prior same for all ng (in this case)\n",
        "      condprobs.append(copy.deepcopy(condprob))\n",
        "      V_avg += len(V)/n \n",
        "    labels_cv = []\n",
        "    results_cv = []\n",
        "    for r in splits[i]:\n",
        "      labels_cv.append(r[\"sentiment\"])\n",
        "      results_cv.append(apply_NaiveBayes(C, prior, condprobs, r, params))\n",
        "    correct_cv.append([labels_cv[j]==results_cv[j] for j in range(len(splits[i]))])\n",
        "    accuracies_cv.append(np.sum(correct_cv[i])/len(splits[i]))\n",
        "    print(\"Finished: {} / {} -- Accuracy: {} -- Avg acc: {}\".format(i+1,n,round(accuracies_cv[i],2),round(np.mean(accuracies_cv),2)))\n",
        "  return correct_cv, accuracies_cv, V_avg\n",
        "  #return avg vocabulary size to compare for different methods\n"
      ],
      "execution_count": 0,
      "outputs": []
    },
    {
      "cell_type": "code",
      "metadata": {
        "id": "3KeCGPa7Nuzx",
        "colab_type": "code",
        "colab": {}
      },
      "source": [
        "# YOUR CODE HERE\n",
        "n = 10\n",
        "splits = [[] for i in range(n)] #use: splits[i] where i = 0,..,9\n",
        "for r in reviews:\n",
        "  splits[r[\"cv\"] % n].append(r)"
      ],
      "execution_count": 0,
      "outputs": []
    },
    {
      "cell_type": "code",
      "metadata": {
        "id": "v0-kFLr5EH2E",
        "colab_type": "code",
        "outputId": "960a4a89-1c46-4df3-97be-d71e87497ab3",
        "colab": {
          "base_uri": "https://localhost:8080/",
          "height": 203
        }
      },
      "source": [
        "# YOUR CODE HERE\n",
        "\n",
        "k = 1\n",
        "params = [1] #determines the weight of each ngram (only unigrams in this case)\n",
        "#params implicitly provides ngram parameter ng (=len(params))\n",
        "\n",
        "correct_cv, accuracies_cv, Vavg_cv = perform_cv(C, splits, n, k, params)"
      ],
      "execution_count": 0,
      "outputs": [
        {
          "output_type": "stream",
          "text": [
            "Finished: 1 / 10 -- Accuracy: 0.79 -- Avg acc: 0.79\n",
            "Finished: 2 / 10 -- Accuracy: 0.84 -- Avg acc: 0.81\n",
            "Finished: 3 / 10 -- Accuracy: 0.8 -- Avg acc: 0.81\n",
            "Finished: 4 / 10 -- Accuracy: 0.82 -- Avg acc: 0.81\n",
            "Finished: 5 / 10 -- Accuracy: 0.78 -- Avg acc: 0.81\n",
            "Finished: 6 / 10 -- Accuracy: 0.84 -- Avg acc: 0.81\n",
            "Finished: 7 / 10 -- Accuracy: 0.83 -- Avg acc: 0.82\n",
            "Finished: 8 / 10 -- Accuracy: 0.78 -- Avg acc: 0.81\n",
            "Finished: 9 / 10 -- Accuracy: 0.83 -- Avg acc: 0.81\n",
            "Finished: 10 / 10 -- Accuracy: 0.84 -- Avg acc: 0.82\n"
          ],
          "name": "stdout"
        }
      ]
    },
    {
      "cell_type": "code",
      "metadata": {
        "id": "QqkSnPzuG0Bl",
        "colab_type": "code",
        "outputId": "d027d47f-d3ca-44a5-86cd-fe043114b969",
        "colab": {
          "base_uri": "https://localhost:8080/",
          "height": 36
        }
      },
      "source": [
        "#cross-validation accuracy\n",
        "#averaged over all splits\n",
        "cv_results = []\n",
        "for c in correct_cv:\n",
        "  cv_results += [\"+\" if c[i] else \"-\" for i in range(len(c))]\n",
        "cv_accuracy = np.sum(accuracies_cv)/n\n",
        "print(\"Accuracy: %0.2f\" %cv_accuracy)"
      ],
      "execution_count": 0,
      "outputs": [
        {
          "output_type": "stream",
          "text": [
            "Accuracy: 0.82\n"
          ],
          "name": "stdout"
        }
      ]
    },
    {
      "cell_type": "markdown",
      "metadata": {
        "id": "otdlsDXBNyOa",
        "colab_type": "text"
      },
      "source": [
        "#### (Q3.5) Write code to calculate and report variance, in addition to the final performance. (1pt)\n",
        "\n",
        "**Please report all future results using 10-fold cross-validation now\n",
        "(unless told to use the held-out test set).**"
      ]
    },
    {
      "cell_type": "code",
      "metadata": {
        "id": "ZoBQm1KuNzNR",
        "colab_type": "code",
        "outputId": "0e7c1c98-e1c2-4d1f-ddc3-f8f0112117ca",
        "colab": {
          "base_uri": "https://localhost:8080/",
          "height": 73
        }
      },
      "source": [
        "# YOUR CODE HERE\n",
        "#cross-validation variance (and std)\n",
        "#cross-validation accuracy\n",
        "#averaged over all splits/folds\n",
        "cv_var = np.var(accuracies_cv)\n",
        "cv_std = round(np.sqrt(cv_var),4) #=np.std(accuracies_cv)\n",
        "print(\"Variance: %0.4f\" %cv_var)\n",
        "print(\"Stddev  : %0.3f\" %cv_std)\n",
        "print(\"Accuracy: %0.2f\" %cv_accuracy)"
      ],
      "execution_count": 0,
      "outputs": [
        {
          "output_type": "stream",
          "text": [
            "Variance: 0.0006\n",
            "Stddev  : 0.025\n",
            "Accuracy: 0.82\n"
          ],
          "name": "stdout"
        }
      ]
    },
    {
      "cell_type": "markdown",
      "metadata": {
        "id": "s6A2zX9_BRKm",
        "colab_type": "text"
      },
      "source": [
        "## Features, overfitting, and the curse of dimensionality\n",
        "\n",
        "In the Bag-of-Words model, ideally we would like each distinct word in\n",
        "the text to be mapped to its own dimension in the output vector\n",
        "representation. However, real world text is messy, and we need to decide\n",
        "on what we consider to be a word. For example, is “`word`\" different\n",
        "from “`Word`\", from “`word`”, or from “`words`\"? Too strict a\n",
        "definition, and the number of features explodes, while our algorithm\n",
        "fails to learn anything generalisable. Too lax, and we risk destroying\n",
        "our learning signal. In the following section, you will learn about\n",
        "confronting the feature sparsity and the overfitting problems as they\n",
        "occur in NLP classification tasks."
      ]
    },
    {
      "cell_type": "markdown",
      "metadata": {
        "id": "EKK8FNt8VtcZ",
        "colab_type": "text"
      },
      "source": [
        "#### (Q3.6): A touch of linguistics (1pt)\n",
        "\n",
        "Taking a step further, you can use stemming to\n",
        "hash different inflections of a word to the same feature in the BoW\n",
        "vector space. How does the performance of your classifier change when\n",
        "you use stemming on your training and test datasets? Please use the [Porter stemming\n",
        "    algorithm](http://www.nltk.org/howto/stem.html) from NLTK.\n",
        " Also, you should do cross validation and concatenate the predictions from all folds to compute the significance."
      ]
    },
    {
      "cell_type": "code",
      "metadata": {
        "id": "NxtCul1IrBi_",
        "colab_type": "code",
        "colab": {}
      },
      "source": [
        "# YOUR CODE HERE\n",
        "\n",
        "stemmer = PorterStemmer()\n",
        "reviews_stem = copy.deepcopy(reviews) #stemmed reviews\n",
        "#replace all words by their stem\n",
        "for ri, r in enumerate(reviews):\n",
        "  for si, s in enumerate(r[\"content\"]):\n",
        "    for ti, t in enumerate(s):\n",
        "      reviews_stem[ri][\"content\"][si][ti][0] = stemmer.stem(t[0])"
      ],
      "execution_count": 0,
      "outputs": []
    },
    {
      "cell_type": "code",
      "metadata": {
        "id": "p7y5XtfreB82",
        "colab_type": "code",
        "colab": {}
      },
      "source": [
        "#now same as above but with stemmed reviews\n",
        "splits_stem = [[] for i in range(n)]\n",
        "for r in reviews_stem:\n",
        "  splits_stem[r[\"cv\"] % n].append(r)"
      ],
      "execution_count": 0,
      "outputs": []
    },
    {
      "cell_type": "code",
      "metadata": {
        "id": "L1pAPhaOgNHt",
        "colab_type": "code",
        "outputId": "c20bb92d-0b5e-445f-e9ff-b32deaf3956d",
        "colab": {
          "base_uri": "https://localhost:8080/",
          "height": 203
        }
      },
      "source": [
        "\n",
        "params = [1] #weights of each ngram model into final result (interpolation params)\n",
        "correct_stem, accuracies_stem, Vavg_stem = perform_cv(C, splits_stem, n, k, params) "
      ],
      "execution_count": 0,
      "outputs": [
        {
          "output_type": "stream",
          "text": [
            "Finished: 1 / 10 -- Accuracy: 0.78 -- Avg acc: 0.78\n",
            "Finished: 2 / 10 -- Accuracy: 0.84 -- Avg acc: 0.81\n",
            "Finished: 3 / 10 -- Accuracy: 0.8 -- Avg acc: 0.81\n",
            "Finished: 4 / 10 -- Accuracy: 0.84 -- Avg acc: 0.82\n",
            "Finished: 5 / 10 -- Accuracy: 0.78 -- Avg acc: 0.81\n",
            "Finished: 6 / 10 -- Accuracy: 0.84 -- Avg acc: 0.81\n",
            "Finished: 7 / 10 -- Accuracy: 0.82 -- Avg acc: 0.81\n",
            "Finished: 8 / 10 -- Accuracy: 0.78 -- Avg acc: 0.81\n",
            "Finished: 9 / 10 -- Accuracy: 0.83 -- Avg acc: 0.81\n",
            "Finished: 10 / 10 -- Accuracy: 0.83 -- Avg acc: 0.81\n"
          ],
          "name": "stdout"
        }
      ]
    },
    {
      "cell_type": "code",
      "metadata": {
        "id": "gT_DpeuWgYld",
        "colab_type": "code",
        "outputId": "310437fb-ab57-4756-a1c8-54d3929ed365",
        "colab": {
          "base_uri": "https://localhost:8080/",
          "height": 73
        }
      },
      "source": [
        "stem_results = []\n",
        "for c in correct_stem:\n",
        "  stem_results += [\"+\" if c[i] else \"-\" for i in range(len(c))]\n",
        "  \n",
        "stem_accuracy = np.sum(accuracies_stem)/n\n",
        "stem_var = np.var(accuracies_stem)\n",
        "stem_std = round(np.sqrt(stem_var),4) #=np.std(accuracies_stem)\n",
        "print(\"Variance: %0.4f\" %stem_var)\n",
        "print(\"Stddev  : %0.3f\" %stem_std)\n",
        "print(\"Accuracy: %0.2f\" %stem_accuracy)\n"
      ],
      "execution_count": 0,
      "outputs": [
        {
          "output_type": "stream",
          "text": [
            "Variance: 0.0007\n",
            "Stddev  : 0.026\n",
            "Accuracy: 0.81\n"
          ],
          "name": "stdout"
        }
      ]
    },
    {
      "cell_type": "markdown",
      "metadata": {
        "id": "6SrJ1BeLXTnk",
        "colab_type": "text"
      },
      "source": [
        "#### (Q3.7): Is the difference between NB with smoothing and NB with smoothing+stemming significant? (0.5pt)\n"
      ]
    },
    {
      "cell_type": "code",
      "metadata": {
        "id": "gYqKBOiIrInT",
        "colab_type": "code",
        "outputId": "859d09c0-9983-480f-9afc-577e444b3c93",
        "colab": {
          "base_uri": "https://localhost:8080/",
          "height": 54
        }
      },
      "source": [
        "# YOUR ANSWER HERE\n",
        "p_value = sign_test(cv_results, stem_results)\n",
        "print(\"p-value =\",round(p_value,2))"
      ],
      "execution_count": 0,
      "outputs": [
        {
          "output_type": "stream",
          "text": [
            "The difference is not significant\n",
            "p-value = 0.95\n"
          ],
          "name": "stdout"
        }
      ]
    },
    {
      "cell_type": "markdown",
      "metadata": {
        "id": "JkDHVq_1XUVP",
        "colab_type": "text"
      },
      "source": [
        "#### Q3.8: What happens to the number of features (i.e., the size of the vocabulary) when using stemming as opposed to (Q3.2)? (0.5pt)\n",
        "Give actual numbers. You can use the held-out training set to determine these."
      ]
    },
    {
      "cell_type": "code",
      "metadata": {
        "id": "MA3vee5-rJyy",
        "colab_type": "code",
        "outputId": "04a3008c-b81c-4a19-a02b-d2024786c085",
        "colab": {
          "base_uri": "https://localhost:8080/",
          "height": 110
        }
      },
      "source": [
        "# YOUR CODE HERE\n",
        "# cross-val vocab size averaged over each iteration\n",
        "print(\" Method                   |  Vocabulary size\\n\"+\"-\"*70)\n",
        "print(\" NB smooth                |  {}\".format(len(V_NBs)))\n",
        "print(\" NB smooth cross-val      |  {}  (averaged)\".format(round(Vavg_cv)))\n",
        "print(\" NB smooth cross-val stem |  {}  (averaged)\".format(round(Vavg_stem)))"
      ],
      "execution_count": 0,
      "outputs": [
        {
          "output_type": "stream",
          "text": [
            " Method                   |  Vocabulary size\n",
            "----------------------------------------------------------------------\n",
            " NB smooth                |  45348\n",
            " NB smooth cross-val      |  45446  (averaged)\n",
            " NB smooth cross-val stem |  32521  (averaged)\n"
          ],
          "name": "stdout"
        }
      ]
    },
    {
      "cell_type": "code",
      "metadata": {
        "id": "f-N3OO3TNouL",
        "colab_type": "code",
        "colab": {}
      },
      "source": [
        "#Using stemming prior to training reduces our vocabulary size by more than 25%!\n",
        "#Nevertheless, our accuracy does not decrease significantly, so stemming is a \n",
        "#good way to speed up the learning process while still getting a well performing model"
      ],
      "execution_count": 0,
      "outputs": []
    },
    {
      "cell_type": "code",
      "metadata": {
        "id": "hluRvoBuHAqr",
        "colab_type": "code",
        "colab": {}
      },
      "source": [
        "correct_cv, reviews_stem, splits_stem, correct_stem, = \"\", \"\", \"\", \"\""
      ],
      "execution_count": 0,
      "outputs": []
    },
    {
      "cell_type": "markdown",
      "metadata": {
        "id": "SoazfxbNV5Lq",
        "colab_type": "text"
      },
      "source": [
        "#### Q3.9: Putting some word order back in (0.5+0.5pt=1pt)\n",
        "\n",
        "A simple way of retaining some of the word\n",
        "order information when using bag-of-words representations is to add **n-grams** features. \n",
        "Retrain your classifier from (Q3.4) using **unigrams+bigrams** and\n",
        "**unigrams+bigrams+trigrams** as features, and report accuracy and statistical significances (in comparison to the experiment at (Q3.4) for all 10 folds, and between the new systems).\n",
        "\n",
        "\n",
        "\n"
      ]
    },
    {
      "cell_type": "code",
      "metadata": {
        "id": "boQTR_LddudX",
        "colab_type": "code",
        "outputId": "333e1fc4-8202-4f1d-e64e-b5dfccfbd3e0",
        "colab": {
          "base_uri": "https://localhost:8080/",
          "height": 203
        }
      },
      "source": [
        "#unigrams + bigrams\n",
        "\n",
        "#account for sparsity bigrams model (bigram is highly sparse compared to unigram)\n",
        "#occurances in the bigrams model are more sparse and therefore also \n",
        "#the conditional probabilities (by a factor ~1e-5, ~1e-6 some cases (checked by comparing condprobs))\n",
        "params = [1e-6,1-1e-6] #weights of each ngram model into final result (interpolation params)\n",
        "#params = [1,0] #gives unigram model; same results as above, but a bit slower (checks for bigrams as well, multiplies by 0)\n",
        "#params = [0,1] #bigrams that are not in the vocab are given zero probability, so this will give accuracy 0.5\n",
        "correct_n2, accuracies_n2, Vavg_n2 = perform_cv(C, splits, n, k, params)"
      ],
      "execution_count": 0,
      "outputs": [
        {
          "output_type": "stream",
          "text": [
            "Finished: 1 / 10 -- Accuracy: 0.8 -- Avg acc: 0.8\n",
            "Finished: 2 / 10 -- Accuracy: 0.85 -- Avg acc: 0.82\n",
            "Finished: 3 / 10 -- Accuracy: 0.83 -- Avg acc: 0.82\n",
            "Finished: 4 / 10 -- Accuracy: 0.88 -- Avg acc: 0.84\n",
            "Finished: 5 / 10 -- Accuracy: 0.83 -- Avg acc: 0.84\n",
            "Finished: 6 / 10 -- Accuracy: 0.88 -- Avg acc: 0.84\n",
            "Finished: 7 / 10 -- Accuracy: 0.84 -- Avg acc: 0.84\n",
            "Finished: 8 / 10 -- Accuracy: 0.84 -- Avg acc: 0.84\n",
            "Finished: 9 / 10 -- Accuracy: 0.86 -- Avg acc: 0.84\n",
            "Finished: 10 / 10 -- Accuracy: 0.84 -- Avg acc: 0.84\n"
          ],
          "name": "stdout"
        }
      ]
    },
    {
      "cell_type": "code",
      "metadata": {
        "id": "sv-lWJYugMLL",
        "colab_type": "code",
        "outputId": "5dc035bd-ed58-428b-d2e5-10b1bcceeee3",
        "colab": {
          "base_uri": "https://localhost:8080/",
          "height": 73
        }
      },
      "source": [
        "n2_results = []\n",
        "for c in correct_n2:\n",
        "  n2_results += [\"+\" if c[i] else \"-\" for i in range(len(c))]\n",
        "  \n",
        "n2_accuracy = np.sum(accuracies_n2)/n\n",
        "n2_var = np.var(accuracies_n2)\n",
        "n2_std = round(np.sqrt(n2_var),4) #=np.std(accuracies_n2)\n",
        "print(\"Variance: %0.4f\" %n2_var)\n",
        "print(\"Stddev  : %0.3f\" %n2_std)\n",
        "print(\"Accuracy: %0.2f\" %n2_accuracy)"
      ],
      "execution_count": 0,
      "outputs": [
        {
          "output_type": "stream",
          "text": [
            "Variance: 0.0006\n",
            "Stddev  : 0.024\n",
            "Accuracy: 0.84\n"
          ],
          "name": "stdout"
        }
      ]
    },
    {
      "cell_type": "code",
      "metadata": {
        "id": "FP3C4pt1e0OH",
        "colab_type": "code",
        "outputId": "b7e45b36-ca28-4890-bffd-6b80dd3a083e",
        "colab": {
          "base_uri": "https://localhost:8080/",
          "height": 203
        }
      },
      "source": [
        "#unigrams + bigrams + trigrams\n",
        "\n",
        "#again, account for sparsity (the ratio unigram - bigram is same as previously used)\n",
        "params = [1e-10,1e-4-1e-10,1-1e-4] #weights of each ngram model into final result (interpolation params)\n",
        "correct_n3, accuracies_n3, Vavg_n3 = perform_cv(C, splits, n, k, params)"
      ],
      "execution_count": 0,
      "outputs": [
        {
          "output_type": "stream",
          "text": [
            "Finished: 1 / 10 -- Accuracy: 0.81 -- Avg acc: 0.81\n",
            "Finished: 2 / 10 -- Accuracy: 0.86 -- Avg acc: 0.84\n",
            "Finished: 3 / 10 -- Accuracy: 0.84 -- Avg acc: 0.84\n",
            "Finished: 4 / 10 -- Accuracy: 0.88 -- Avg acc: 0.84\n",
            "Finished: 5 / 10 -- Accuracy: 0.8 -- Avg acc: 0.84\n",
            "Finished: 6 / 10 -- Accuracy: 0.88 -- Avg acc: 0.84\n",
            "Finished: 7 / 10 -- Accuracy: 0.86 -- Avg acc: 0.84\n",
            "Finished: 8 / 10 -- Accuracy: 0.83 -- Avg acc: 0.84\n",
            "Finished: 9 / 10 -- Accuracy: 0.87 -- Avg acc: 0.85\n",
            "Finished: 10 / 10 -- Accuracy: 0.84 -- Avg acc: 0.85\n"
          ],
          "name": "stdout"
        }
      ]
    },
    {
      "cell_type": "code",
      "metadata": {
        "id": "35ohCKp3fh_I",
        "colab_type": "code",
        "outputId": "f1bbd3de-bbf4-4771-9013-433c0c87d983",
        "colab": {
          "base_uri": "https://localhost:8080/",
          "height": 73
        }
      },
      "source": [
        "n3_results = []\n",
        "for c in correct_n3:\n",
        "  n3_results += [\"+\" if c[i] else \"-\" for i in range(len(c))]\n",
        "  \n",
        "n3_accuracy = np.sum(accuracies_n3)/n\n",
        "n3_var = np.var(accuracies_n3)\n",
        "n3_std = round(np.sqrt(n3_var),4) #=np.std(accuracies_n2)\n",
        "print(\"Variance: %0.4f\" %n3_var)\n",
        "print(\"Stddev  : %0.3f\" %n3_std)\n",
        "print(\"Accuracy: %0.2f\" %n3_accuracy)"
      ],
      "execution_count": 0,
      "outputs": [
        {
          "output_type": "stream",
          "text": [
            "Variance: 0.0007\n",
            "Stddev  : 0.026\n",
            "Accuracy: 0.85\n"
          ],
          "name": "stdout"
        }
      ]
    },
    {
      "cell_type": "code",
      "metadata": {
        "id": "uHqmPQKhhpgB",
        "colab_type": "code",
        "outputId": "64f7bf4b-c37c-45dc-e557-6ad7579257ab",
        "colab": {
          "base_uri": "https://localhost:8080/",
          "height": 54
        }
      },
      "source": [
        "#compare unigram+bigram model with unigram+bigram+trigram model\n",
        "p_value = sign_test(n2_results, n3_results) \n",
        "print(\"p-value =\",round(p_value,2))"
      ],
      "execution_count": 0,
      "outputs": [
        {
          "output_type": "stream",
          "text": [
            "The difference is not significant\n",
            "p-value = 0.93\n"
          ],
          "name": "stdout"
        }
      ]
    },
    {
      "cell_type": "code",
      "metadata": {
        "id": "PGekHXGBgoJA",
        "colab_type": "code",
        "outputId": "3363f381-2f2f-4756-d8fb-72e28b25bfbf",
        "colab": {
          "base_uri": "https://localhost:8080/",
          "height": 54
        }
      },
      "source": [
        "#compare unigram model with unigram+bigram model\n",
        "p_value = sign_test(cv_results, n2_results) \n",
        "print(\"p-value =\",round(p_value,2))"
      ],
      "execution_count": 0,
      "outputs": [
        {
          "output_type": "stream",
          "text": [
            "The difference is not significant\n",
            "p-value = 0.23\n"
          ],
          "name": "stdout"
        }
      ]
    },
    {
      "cell_type": "code",
      "metadata": {
        "id": "u9-JAJanhdyu",
        "colab_type": "code",
        "outputId": "984603e3-15a3-4a4a-ba58-0b93e129f4aa",
        "colab": {
          "base_uri": "https://localhost:8080/",
          "height": 54
        }
      },
      "source": [
        "#compare unigram model with unigram+bigram_trigram model\n",
        "p_value = sign_test(cv_results, n3_results) \n",
        "print(\"p-value =\",round(p_value,2))"
      ],
      "execution_count": 0,
      "outputs": [
        {
          "output_type": "stream",
          "text": [
            "The difference is not significant\n",
            "p-value = 0.19\n"
          ],
          "name": "stdout"
        }
      ]
    },
    {
      "cell_type": "markdown",
      "metadata": {
        "id": "dVrGGArkrWoL",
        "colab_type": "text"
      },
      "source": [
        "\n",
        "#### Q3.10: How many features does the BoW model have to take into account now? (0.5pt)\n",
        "How does this number compare (e.g., linear, square, cubed, exponential) to the number of features at (Q3.8)? \n",
        "\n",
        "Use the held-out training set once again for this.\n"
      ]
    },
    {
      "cell_type": "code",
      "metadata": {
        "id": "_z8sAJeUrdtM",
        "colab_type": "code",
        "outputId": "7a942a35-5f28-4e9e-963e-cfe59e3da26e",
        "colab": {
          "base_uri": "https://localhost:8080/",
          "height": 110
        }
      },
      "source": [
        "# YOUR CODE HERE\n",
        "\n",
        "print(\"i | Model      | Vocab size (VS) | VS normalised | i^2 | i^3\\n\"+\"-\"*60)\n",
        "print(\"1 | uni        | {:>13}   | {:>7}       |  1  |  1\".format(round(Vavg_cv),round(Vavg_cv/Vavg_cv)))\n",
        "print(\"2 | uni+bi     | {:>13}   | {:>7}       |  4  |  8\".format(round(Vavg_n2),round(Vavg_n2/Vavg_cv)))\n",
        "print(\"3 | uni+bi+tri | {:>13}   | {:>7}       |  9  | 27\".format(round(Vavg_n3),round(Vavg_n3/Vavg_cv)))"
      ],
      "execution_count": 0,
      "outputs": [
        {
          "output_type": "stream",
          "text": [
            "i | Model      | Vocab size (VS) | VS normalised | i^2 | i^3\n",
            "------------------------------------------------------------\n",
            "1 | uni        |         45446   |       1       |  1  |  1\n",
            "2 | uni+bi     |        471894   |      10       |  4  |  8\n",
            "3 | uni+bi+tri |       1421836   |      31       |  9  | 27\n"
          ],
          "name": "stdout"
        }
      ]
    },
    {
      "cell_type": "code",
      "metadata": {
        "id": "eCVnNBtiUMI1",
        "colab_type": "code",
        "colab": {}
      },
      "source": [
        "#Looks like the number increases with the cube of the unigram model"
      ],
      "execution_count": 0,
      "outputs": []
    },
    {
      "cell_type": "markdown",
      "metadata": {
        "id": "CHWKDL3YV6vh",
        "colab_type": "text"
      },
      "source": [
        "# Support Vector Machines (4pts)\n"
      ]
    },
    {
      "cell_type": "markdown",
      "metadata": {
        "id": "hJSYhcVaoJGt",
        "colab_type": "text"
      },
      "source": [
        "Though simple to understand, implement, and debug, one\n",
        "major problem with the Naive Bayes classifier is that its performance\n",
        "deteriorates (becomes skewed) when it is being used with features which\n",
        "are not independent (i.e., are correlated). Another popular classifier\n",
        "that doesn’t scale as well to big data, and is not as simple to debug as\n",
        "Naive Bayes, but that doesn’t assume feature independence is the Support\n",
        "Vector Machine (SVM) classifier.\n",
        "\n",
        "You can find more details about SVMs in Chapter 7 of Bishop: Pattern Recognition and Machine Learning.\n",
        "Other sources for learning SVM:\n",
        "* http://web.mit.edu/zoya/www/SVM.pdf\n",
        "* http://www.cs.columbia.edu/~kathy/cs4701/documents/jason_svm_tutorial.pdf\n",
        "* https://pythonprogramming.net/support-vector-machine-intro-machine-learning-tutorial/\n",
        "\n",
        "\n",
        "\n",
        "\n",
        "\n",
        "\n",
        "\n",
        "Use the scikit-learn implementation of \n",
        "[SVM.](http://scikit-learn.org/stable/modules/svm.html) with the default parameters.\n",
        "\n"
      ]
    },
    {
      "cell_type": "markdown",
      "metadata": {
        "id": "0LnzNtQBV8gr",
        "colab_type": "text"
      },
      "source": [
        "#### (Q4.1): Train SVM and compare to Naive Bayes (2pt)\n",
        "\n",
        "Train an SVM classifier (sklearn.svm.LinearSVC) using your features. Compare the\n",
        "classification performance of the SVM classifier to that of the Naive\n",
        "Bayes classifier from (Q3.4) and report the numbers.\n",
        "Do cross validation and concatenate the predictions from all folds to compute the significance.  Are the results significantly better?\n",
        "\n"
      ]
    },
    {
      "cell_type": "code",
      "metadata": {
        "id": "JBscui8Mvoz0",
        "colab_type": "code",
        "colab": {}
      },
      "source": [
        "# YOUR CODE HERE\n",
        "from sklearn import svm\n",
        "import string \n",
        "from sklearn.svm import LinearSVC\n",
        "from sklearn.model_selection import train_test_split, cross_val_score\n",
        "\n",
        "\n",
        "def get_vocab(reviews): # only vocabulary\n",
        "    vocab = set()\n",
        "    for i, r in enumerate(reviews): \n",
        "        for line in r[\"content\"]: #line=sentence\n",
        "            for word, _ in line:\n",
        "                if word not in string.punctuation: \n",
        "                    vocab.add(word.lower()) #make sure they're non-capital letters\n",
        "    return(vocab)\n",
        "\n",
        "\n",
        "def get_vocab_pos(reviews): # vocabulary and pos tag\n",
        "    vocab = set()\n",
        "    for i, r in enumerate(reviews): \n",
        "        for line in r[\"content\"]: #line=sentence\n",
        "            for word,pos_tag in line:\n",
        "                if word not in string.punctuation:\n",
        "                    duple = word.lower()+pos_tag\n",
        "                    vocab.add(duple) #make sure they're non-capital letters\n",
        "\n",
        "    return(vocab)\n",
        "\n",
        "\n"
      ],
      "execution_count": 0,
      "outputs": []
    },
    {
      "cell_type": "code",
      "metadata": {
        "id": "zjB8Hng0Nmu1",
        "colab_type": "code",
        "colab": {}
      },
      "source": [
        "# function call for 4.1\n",
        "vocab = get_vocab(reviews)\n",
        "vocab = list(vocab)"
      ],
      "execution_count": 0,
      "outputs": []
    },
    {
      "cell_type": "code",
      "metadata": {
        "id": "F3YsejMkXIq5",
        "colab_type": "code",
        "colab": {}
      },
      "source": [
        "#create feature vector X and response vector Y\n",
        "\n",
        "def create_featureVec(reviews, vocab, POS ):\n",
        "    voc = {}\n",
        "    X = np.zeros([len(reviews),len(vocab)])\n",
        "    Y = np.zeros(len(reviews))                #sentiment coding for Y = POS:1, NEG:0\n",
        "\n",
        "  #create dic with word and number of occurences\n",
        "    for counter, word in enumerate(vocab):\n",
        "        voc[word] = counter\n",
        "\n",
        "        \n",
        "    #task 4.1\n",
        "    if not POS:\n",
        "        for i,r in enumerate(reviews):\n",
        "            counter = Counter()\n",
        "            for sentence in r[\"content\"]:\n",
        "                for word,_ in sentence:\n",
        "                    if word not in string.punctuation: #vocab does not contain any punctuation marks anymore\n",
        "                        counter[word.lower()]+=1\n",
        "                    else:\n",
        "                        continue\n",
        "            for c in counter:\n",
        "                X[i][voc[c]] = counter[c]                                 #build X\n",
        "                if reviews[i]['sentiment'] == 'POS':\n",
        "                    Y[i] = 1                                              #build Y\n",
        "                elif reviews[i]['sentiment'] == 'NEG':\n",
        "                    Y[i] = 0\n",
        " #task 4.2\n",
        "    elif POS:\n",
        "        for i,r in enumerate(reviews):\n",
        "            counter = Counter()\n",
        "            for sentence in r[\"content\"]:\n",
        "                for word, pos_tag in sentence:\n",
        "                    if word not in string.punctuation:\n",
        "                        comp_word = word.lower()+pos_tag      \n",
        "                        counter[comp_word]+=1\n",
        "            for c in counter:\n",
        "                X[i][voc[c]] = counter[c]\n",
        "                if reviews[i]['sentiment'] == 'POS':\n",
        "                    Y[i] = 1\n",
        "                elif reviews[i]['sentiment'] == 'NEG':\n",
        "                    Y[i] = 0\n",
        "\n",
        "    return X,Y\n",
        "\n",
        "\n"
      ],
      "execution_count": 0,
      "outputs": []
    },
    {
      "cell_type": "code",
      "metadata": {
        "id": "p7wG4ccZ38oF",
        "colab_type": "code",
        "colab": {}
      },
      "source": [
        "#Function call to build feature matrix\n",
        "X,Y = create_featureVec(reviews, vocab, False )"
      ],
      "execution_count": 0,
      "outputs": []
    },
    {
      "cell_type": "code",
      "metadata": {
        "id": "xILGFgeusMYW",
        "colab_type": "code",
        "colab": {}
      },
      "source": [
        "def train_svm(X,Y):\n",
        "    clf = LinearSVC(max_iter=10000)\n",
        "    clf.fit(X,Y)\n",
        "    return clf"
      ],
      "execution_count": 0,
      "outputs": []
    },
    {
      "cell_type": "code",
      "metadata": {
        "id": "fnYhPlHe8bNe",
        "colab_type": "code",
        "colab": {}
      },
      "source": [
        "def test_svm(model,X_test,Y_test):\n",
        "\n",
        "  score = model.score(X_test,Y_test)\n",
        "  predicted = model.predict(X_test)\n",
        "  accuracy = np.count_nonzero(np.equal(predicted,Y_test)==1)/len(X_test)\n",
        "\n",
        "  equals = np.equal(predicted, Y_test)\n",
        "  signs = ['+' if x else '-' for x in equals ]\n",
        "  return score, accuracy, signs"
      ],
      "execution_count": 0,
      "outputs": []
    },
    {
      "cell_type": "code",
      "metadata": {
        "colab_type": "code",
        "id": "ugSL_bNwWeqB",
        "colab": {}
      },
      "source": [
        "'''\n",
        "def rr_cv(splits,X,Y): # round_robin_crossvalidation\n",
        "  X_train = []\n",
        "  Y_train = []  \n",
        "  X_test = []\n",
        "  Y_test = []\n",
        "  scores = []  \n",
        "  accuracies = [] \n",
        "  signs = []              \n",
        "\n",
        "  for i in range(n): #split i is test-set    n=is global already!\n",
        "    X_indices = [] #the rest is train-set\n",
        "    Y_indices = []\n",
        "    for j in range(n):\n",
        "      if j != i:\n",
        "        #print(splits[j])\n",
        "        X_indices += splits[j] #list of indices for x\n",
        "        Y_indices += splits[j] #list of indices for x\n",
        "        #print(type(X_indices))\n",
        "      \n",
        "        \n",
        "\n",
        "    X_train = X[np.array(X_indices),]\n",
        "    Y_train = Y[np.array(Y_indices),]\n",
        "\n",
        "        #train model on subset\n",
        "    model = train_svm(X_train, Y_train)\n",
        "\n",
        "    for r in splits[i]:\n",
        "      \n",
        "      X_test= X[np.array(splits[i])]\n",
        "      Y_test= Y[np.array(splits[i])]\n",
        "\n",
        "      #test model on rest\n",
        "\n",
        "      score, accuracy, sign = test_svm(model, X_test, Y_test)\n",
        "      scores.append(score)\n",
        "      accuracies.append(accuracy)\n",
        "      signs.append(sign)\n",
        "    print(\"Finished: {} / {} \".format(i+1,n))\n",
        "  return scores, accuracies, signs\n",
        "\n",
        "\n",
        "\n",
        "#list of indices\n",
        "n = 10\n",
        "splits = [[] for i in range(n)] #use: splits[i] where i = 0,..,9\n",
        "for r in range(len(X)):\n",
        "  splits[r % n].append(r)\n",
        "\n",
        "\n",
        "\n",
        "#Function Call\n",
        "\n",
        "score, accuracy, signs, results = rr_cv(splits,X,Y)\n",
        "  '''\n"
      ],
      "execution_count": 0,
      "outputs": []
    },
    {
      "cell_type": "code",
      "metadata": {
        "id": "joV2LxTFsrK-",
        "colab_type": "code",
        "outputId": "10ce5126-e0d4-40c3-92b5-e9b6365fe0b5",
        "colab": {
          "base_uri": "https://localhost:8080/",
          "height": 54
        }
      },
      "source": [
        "#call for 4.1\n",
        "X_train, X_test, y_train, y_test = train_test_split(X, Y, test_size = 0.2)\n",
        "\n",
        "lin_svm = train_svm(X_train,y_train)\n",
        "\n",
        "test_svmn = train_svm(X_test,y_test)\n",
        "print('Model Accuracy: ',lin_svm.score(X_test,y_test))\n",
        "\n",
        "model = LinearSVC(random_state = 200,max_iter = 10000)\n",
        "print('Accuracy after 10 Fold Cross Validation: ',round(np.mean(cross_val_score(model, X_train, y_train, cv = 10)),2))"
      ],
      "execution_count": 0,
      "outputs": [
        {
          "output_type": "stream",
          "text": [
            "Model Accuracy:  0.8375\n",
            "Accuracy after 10 Fold Cross Validation:  0.83\n"
          ],
          "name": "stdout"
        }
      ]
    },
    {
      "cell_type": "code",
      "metadata": {
        "id": "ITsrG7lmcanJ",
        "colab_type": "code",
        "colab": {}
      },
      "source": [
        "# Function call, save signs for sign test\n",
        "\n",
        "# Comparison and Test Evaluation comes in section 4.2\n",
        "\n",
        "X_train, X_test, Y_train, Y_test = train_test_split(X, Y, test_size = 0.2)\n",
        "lin_svm = train_svm(X_train,Y_train)\n",
        "score, mean_acc, svm_signs = test_svm(lin_svm,X_test,Y_test)\n"
      ],
      "execution_count": 0,
      "outputs": []
    },
    {
      "cell_type": "markdown",
      "metadata": {
        "id": "ifXVWcK0V9qY",
        "colab_type": "text"
      },
      "source": [
        "### More linguistics\n",
        "\n",
        "Now add in part-of-speech features. You will find the\n",
        "movie review dataset has already been POS-tagged for you. Try to\n",
        "replicate what Pang et al. were doing:\n",
        "\n"
      ]
    },
    {
      "cell_type": "markdown",
      "metadata": {
        "id": "xA3I82o4oWGu",
        "colab_type": "text"
      },
      "source": [
        "####(Q4.2) Replace your features with word+POS features, and report performance with the SVM. Does this help? Do cross validation and concatenate the predictions from all folds to compute the significance. Are the results significant? Why?  (1pt)\n"
      ]
    },
    {
      "cell_type": "code",
      "metadata": {
        "id": "NOvjYe-t2Br6",
        "colab_type": "code",
        "outputId": "3d6d2744-15b8-4ffa-ce08-1684ac72630a",
        "colab": {
          "base_uri": "https://localhost:8080/",
          "height": 54
        }
      },
      "source": [
        "# Function call get_vocab_pos for 4.2\n",
        "vocab_pos = get_vocab_pos(reviews)\n",
        "vocab_pos = list(vocab_pos)\n",
        "\n",
        "#call function for feature_maztrix\n",
        "X_pos,Y_pos = create_featureVec(reviews, vocab_pos, True )\n",
        "\n",
        "\n",
        "X_train_pos, X_test_pos, Y_train_pos, Y_test_pos = train_test_split(X_pos,Y_pos, test_size = 0.2)\n",
        "\n",
        "\n",
        "\n",
        "lin_svm = train_svm(X_train_pos,Y_train_pos)\n",
        "\n",
        "test_svm = train_svm(X_test_pos,Y_test_pos)\n",
        "print('Model Accuracy: ',lin_svm.score(X_test_pos,Y_test_pos))\n",
        "\n",
        "model = LinearSVC(random_state = 200, max_iter = 10000)\n",
        "\n",
        "#10 fold cross validaion\n",
        "print('Accuracy after 10 Fold Cross Validation: ',round(np.mean(cross_val_score(model, X_train_pos, Y_train_pos, cv = 10)),2))"
      ],
      "execution_count": 0,
      "outputs": [
        {
          "output_type": "stream",
          "text": [
            "Model Accuracy:  0.82\n",
            "Accuracy after 10 Fold Cross Validation:  0.83\n"
          ],
          "name": "stdout"
        }
      ]
    },
    {
      "cell_type": "code",
      "metadata": {
        "id": "0-lvBM3Ldyi1",
        "colab_type": "code",
        "colab": {}
      },
      "source": [
        "# Function call and store outputs\n",
        "score_pos, mean_acc_pos, svm_signs_pos = test_svm(lin_svm,X_test_pos,Y_test_pos)\n"
      ],
      "execution_count": 0,
      "outputs": []
    },
    {
      "cell_type": "code",
      "metadata": {
        "id": "KrbzNesrl4Nx",
        "colab_type": "code",
        "outputId": "b5e1bb6a-ee54-4071-8a11-519b2eb9567c",
        "colab": {
          "base_uri": "https://localhost:8080/",
          "height": 54
        }
      },
      "source": [
        "# Sign Test between the both feature sets of the SVM Model\n",
        "\n",
        "#compare features with and without POS tags\n",
        "p_value = sign_test(svm_signs, svm_signs_pos) \n",
        "print(\"p-value =\",round(p_value,2))"
      ],
      "execution_count": 0,
      "outputs": [
        {
          "output_type": "stream",
          "text": [
            "The difference is not significant\n",
            "p-value = 0.73\n"
          ],
          "name": "stdout"
        }
      ]
    },
    {
      "cell_type": "markdown",
      "metadata": {
        "id": "Su-3w87eMW0w",
        "colab_type": "text"
      },
      "source": [
        "#### (Q4.3) Discard all closed-class words from your data (keep only nouns (N*), verbs (V*), adjectives (J*) and adverbs (RB*)), and report performance. Does this help? Do cross validation and concatenate the predictions from all folds to compute the significance. Are the results significantly better than when we don't discard the closed-class words? Why? (1pt)"
      ]
    },
    {
      "cell_type": "code",
      "metadata": {
        "id": "CCUPlPozCYUX",
        "colab_type": "code",
        "colab": {}
      },
      "source": [
        "POS = [\"N\",\"V\",\"J\",\"RB\"]\n",
        "\n",
        "def create_redu_featureVec(reviews, vocab):\n",
        "    \n",
        "    voc = {}\n",
        "    X = np.zeros([len(reviews),len(vocab)])\n",
        "    Y = np.zeros(len(reviews))                #sentiment coding for Y = POS:1, NEG:0\n",
        "\n",
        "  #create dic with word and number of occurences\n",
        "    for counter, word in enumerate(vocab):\n",
        "        voc[word] = counter\n",
        "    \n",
        "    for i,r in enumerate(reviews):\n",
        "            counter = Counter()\n",
        "            for sentence in r[\"content\"]:\n",
        "                for word, pos_tag in sentence:\n",
        "                    if word not in string.punctuation:\n",
        "                        if pos_tag in POS:\n",
        "                            comp_word = word.lower()+pos_tag      \n",
        "                            counter[comp_word]+=1\n",
        "            for c in counter:\n",
        "          #build X\n",
        "                X[i][voc[c]] = counter[c]\n",
        "          #build Y\n",
        "                if reviews[i]['sentiment'] == 'POS':\n",
        "                    Y[i] = 1\n",
        "                elif reviews[i]['sentiment'] == 'NEG':\n",
        "                    Y[i] = 0\n",
        "    return X,Y"
      ],
      "execution_count": 0,
      "outputs": []
    },
    {
      "cell_type": "code",
      "metadata": {
        "id": "HI0Ot3Nxu9L5",
        "colab_type": "code",
        "colab": {}
      },
      "source": [
        "X_redu,Y_redu = create_redu_featureVec(reviews, vocab_pos)"
      ],
      "execution_count": 0,
      "outputs": []
    },
    {
      "cell_type": "code",
      "metadata": {
        "id": "2Cvg6onzvAsJ",
        "colab_type": "code",
        "outputId": "03f33003-2922-44d2-980c-3a88420d1a68",
        "colab": {
          "base_uri": "https://localhost:8080/",
          "height": 54
        }
      },
      "source": [
        "#call for 4.3\n",
        "X_train_redu, X_test_redu, Y_train_redu, Y_test_redu = train_test_split(X_redu,Y_redu, test_size = 0.2)\n",
        "\n",
        "lin_svm = train_svm(X_train_redu,Y_train_redu)\n",
        "\n",
        "test_svmn = train_svm(X_test_redu,Y_test_redu)\n",
        "print('Model Accuracy: ', lin_svm.score(X_test_redu,Y_test_redu))\n",
        "\n",
        "model = LinearSVC( max_iter = 10000)\n",
        "print('Accuracy after 10 Fold Cross Validation: ',round(np.mean(cross_val_score(model, X_train_redu, Y_train_redu, cv = 10)),2))"
      ],
      "execution_count": 0,
      "outputs": [
        {
          "output_type": "stream",
          "text": [
            "Model Accuracy:  0.6725\n",
            "Accuracy after 10 Fold Cross Validation:  0.7\n"
          ],
          "name": "stdout"
        }
      ]
    },
    {
      "cell_type": "code",
      "metadata": {
        "id": "CcSdnLOrgLOq",
        "colab_type": "code",
        "colab": {}
      },
      "source": [
        "score_redu, mean_acc_redu, svm_signs_redu = test_svm(lin_svm,X_test_redu,Y_test_redu)"
      ],
      "execution_count": 0,
      "outputs": []
    },
    {
      "cell_type": "code",
      "metadata": {
        "id": "n4Pq15BqgdtV",
        "colab_type": "code",
        "outputId": "a0867d5f-0d0d-4bd1-b1ec-30aaecbaa394",
        "colab": {
          "base_uri": "https://localhost:8080/",
          "height": 54
        }
      },
      "source": [
        "# SIGN TEST BETWEEN BOTH FEATURES\n",
        "\n",
        "#compare features with and without POS tags\n",
        "p_value = sign_test(svm_signs, svm_signs_redu) \n",
        "print(\"p-value =\",round(p_value,2))\n"
      ],
      "execution_count": 0,
      "outputs": [
        {
          "output_type": "stream",
          "text": [
            "The difference is not significant\n",
            "p-value = 0.08\n"
          ],
          "name": "stdout"
        }
      ]
    },
    {
      "cell_type": "code",
      "metadata": {
        "id": "B_rdKq3SgjeC",
        "colab_type": "code",
        "outputId": "e863fc66-6eb4-4468-9c3a-299e33286e04",
        "colab": {
          "base_uri": "https://localhost:8080/",
          "height": 54
        }
      },
      "source": [
        "# SIGN TEST BETWEEN BOTH FEATURES\n",
        "\n",
        "#compare features with and without POS tags\n",
        "p_value = sign_test(svm_signs_pos, svm_signs_redu) \n",
        "print(\"p-value =\",round(p_value,2))"
      ],
      "execution_count": 0,
      "outputs": [
        {
          "output_type": "stream",
          "text": [
            "The difference is significant\n",
            "p-value = 0.01\n"
          ],
          "name": "stdout"
        }
      ]
    },
    {
      "cell_type": "code",
      "metadata": {
        "id": "8ifN7VrIRTo_",
        "colab_type": "code",
        "outputId": "73506fd9-e077-47cf-e586-de36a75cebb5",
        "colab": {
          "base_uri": "https://localhost:8080/",
          "height": 54
        }
      },
      "source": [
        "# SIGN TEST BETWEEN BEST NB-CLASSIFIER AND BEST SVM MODEL\n",
        "\n",
        "\n",
        "p_value = sign_test(svm_signs_pos, cv_results)\n",
        "print(\"p-value =\",round(p_value,2))"
      ],
      "execution_count": 0,
      "outputs": [
        {
          "output_type": "stream",
          "text": [
            "The difference is not significant\n",
            "p-value = 0.65\n"
          ],
          "name": "stdout"
        }
      ]
    },
    {
      "cell_type": "markdown",
      "metadata": {
        "id": "nfwqOciAl2No",
        "colab_type": "text"
      },
      "source": [
        "# (Q5) Discussion (max. 500 words). (5pts)\n",
        "\n",
        "> Based on your experiments, what are the effective features and techniques in sentiment analysis? What information do different features encode?\n",
        "Why is this important? What are the limitations of these features and techniques?\n",
        " \n"
      ]
    },
    {
      "cell_type": "markdown",
      "metadata": {
        "id": "ZYuse5WLmekZ",
        "colab_type": "text"
      },
      "source": [
        "At the basis of this work was a straight forward task: classifying movie reviews as positive or negative based on their content.\n",
        "Overall, we found results similar to those presented by Pang et al. (2002), where this problem has first been explored.\n",
        "Several experiments were conducted using different approaches, first of which was the symbolic approach. By simply counting words and weighing their sentiment into the sum, we already found a 0.68 accuracy. Incorperating the magnitude of the sentiments did not increase the accuracy significally (from 0.68 to 0.69). Using the Naive Bayes approach, we found significantly better results, using smoothing with k=1. If no smoothing is applied, unseen words in a given class disturb the overall probability, resulting almost in a random-guess model. With smoothing however, we found for the unigram, unigram+bigram and unigram+bigram+trigram models respectively accuracies of 0.82, 0.84, 0.85, all of which had a standard deviation of less than 0.03. However no significant difference yet, we have good reason to believe that unigram+bigram+trigram could outperform unigram with after more finetuning and a well chosen set of interpolation parameters. A downside of using combinations of ngrams is that the vocabulary scales with the cube of the unigram model. A solution to this could be by using stemmed versions of the reviews, since we have found that using a porter stemming algorithm, the vocabulary size scales down with more than 25% for the unigram, while maintaining accuracy.\n",
        "\n",
        "Lastly the linear SVM performed equally good. Whereas Naives Bayes treats all features as independent, SVM looks (to a certain degree) to linear intercations between the features. Moreover SVM with linear kernel perform well on large feature sets and perform faster than gaussian kernel. The SVM feature set is a N x M matrix, where N is the Number of reviews and M the set of vocabulary. A cell indicates the count within the review for the according word. Introducing N-Grams to the SVM would lead to an increase of the accuracy as the linear kernel performs better with more features and the model is already making linear dependency assumpotions between words.\n",
        "\n",
        "Comparing the results of the Naive Bayes and Linear SVM one can say that the difference in performance on the standard BOW model is not significant (p-vlaue greater than 0.5)."
      ]
    },
    {
      "cell_type": "markdown",
      "metadata": {
        "id": "iwaKwfWQhRk_",
        "colab_type": "text"
      },
      "source": [
        "# Submission \n"
      ]
    },
    {
      "cell_type": "code",
      "metadata": {
        "id": "aOUeaET5ijk-",
        "colab_type": "code",
        "colab": {}
      },
      "source": [
        "# Write your names and student numbers here:\n",
        "# Yke Rusticus 11306386\n",
        "# Ikira Schielke 12755087"
      ],
      "execution_count": 0,
      "outputs": []
    },
    {
      "cell_type": "markdown",
      "metadata": {
        "id": "3A9K-H6Tii3X",
        "colab_type": "text"
      },
      "source": [
        "**That's it!**\n",
        "\n",
        "- Check if you answered all questions fully and correctly. \n",
        "- Download your completed notebook using `File -> Download .ipynb` \n",
        "- Also save your notebook as a Github Gist. Get it by choosing `File -> Save as Github Gist`.  Make sure that the gist has a secret link (not public).\n",
        "- Check if your answers are all included in the file you submit (e.g. check the Github Gist URL)\n",
        "- Submit your .ipynb file and link to the Github Gist via *Canvas*. One submission per group. "
      ]
    }
  ]
}